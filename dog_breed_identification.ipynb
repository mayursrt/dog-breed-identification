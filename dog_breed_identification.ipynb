{
  "nbformat": 4,
  "nbformat_minor": 0,
  "metadata": {
    "colab": {
      "name": "dog-breed-identification.ipynb",
      "private_outputs": true,
      "provenance": [],
      "collapsed_sections": [],
      "mount_file_id": "119e9qVOzpMxisOu3N88wO3G9KyYJWIos",
      "authorship_tag": "ABX9TyMmGIVKXOBt/Gkgdq/rsEjk",
      "include_colab_link": true
    },
    "kernelspec": {
      "name": "python3",
      "display_name": "Python 3"
    },
    "language_info": {
      "name": "python"
    },
    "accelerator": "GPU"
  },
  "cells": [
    {
      "cell_type": "markdown",
      "metadata": {
        "id": "view-in-github",
        "colab_type": "text"
      },
      "source": [
        "<a href=\"https://colab.research.google.com/github/mayursrt/dog-breed-identification/blob/main/dog_breed_identification.ipynb\" target=\"_parent\"><img src=\"https://colab.research.google.com/assets/colab-badge.svg\" alt=\"Open In Colab\"/></a>"
      ]
    },
    {
      "cell_type": "markdown",
      "metadata": {
        "id": "b8rX78bLy4KB"
      },
      "source": [
        "# Dog Breed Identification\n",
        "This notebook builds an end-to-end multi-class image classifier using TensorFlow 2.x and TensorFlow Hub.\n",
        "\n",
        "1. Problem\n",
        "Identifying the breed of a dog given an image of a dog.\n",
        "\n",
        "When I'm sitting at the cafe and I take a photo of a dog, I want to know what breed of dog it is.\n",
        "\n",
        "2. Data\n",
        "The data we're using is from Kaggle's dog breed identification competition. You can get the data here:\n",
        "\n",
        "https://www.kaggle.com/c/dog-breed-identification/data\n",
        "\n",
        "3. Evaluation\n",
        "The evaluation is a file with prediction probabilities for each dog breed of each test image.\n",
        "\n",
        "https://www.kaggle.com/c/dog-breed-identification/overview/evaluation\n",
        "\n",
        "4. Features\n",
        "Some information about the data:\n",
        "\n",
        "* We're dealing with images (unstructured data) so it's probably best we use deep learning/transfer learning.\n",
        "* There are 120 breeds of dogs (this means there are 120 different classes).\n",
        "* There are around 10,000+ images in the training set (these images have labels).\n",
        "* There are around 10,000+ images in the test set (these images have no labels, because we'll want to predict them).\n",
        "\n",
        "\n",
        "### Getting the workspace ready\n",
        "First Import all the packages needed for the task:\n",
        "* TensorFlow 2.x\n",
        "* TensorFlow Hub\n",
        "\n",
        "Also check if you're using a GPU.\n"
      ]
    },
    {
      "cell_type": "code",
      "metadata": {
        "id": "sy1JhpE1CYmJ"
      },
      "source": [
        "# import packages and check their versions\n",
        "import tensorflow as tf\n",
        "import tensorflow_hub as hub\n",
        "print('TensorFlow version:', tf.__version__)\n",
        "print('TensorFlow Hub version:', hub.__version__)"
      ],
      "execution_count": null,
      "outputs": []
    },
    {
      "cell_type": "code",
      "metadata": {
        "id": "Cl8Ra5cuC80R"
      },
      "source": [
        "# check GPU availability\n",
        "print(\"GPU\", \"available\" if tf.config.list_physical_devices(\"GPU\") else \"not available\")"
      ],
      "execution_count": null,
      "outputs": []
    },
    {
      "cell_type": "markdown",
      "metadata": {
        "id": "n-9ZZHrGFz7y"
      },
      "source": [
        "**NOTE:** This project will not be able to run if there is no GPU available. If using Google Colab, Goto Runtime > Change Runtime Type > Select GPU."
      ]
    },
    {
      "cell_type": "markdown",
      "metadata": {
        "id": "CAHTj40EEK0E"
      },
      "source": [
        "### Getting our data ready (turning into Tensors)\n",
        "With all machine learning models, our data has to be in numerical format. So that's what we'll be doing first. Turning our images into Tensors (numerical representations).\n",
        "\n",
        "Let's start by accessing our data and checking out the labels."
      ]
    },
    {
      "cell_type": "code",
      "metadata": {
        "id": "cCCmSIEMQgSS"
      },
      "source": [
        "# Checkout the labels of the data\n",
        "import pandas as pd\n",
        "labels = pd.read_csv(\"drive/MyDrive/Dog Breed Identification using Tensorflow/data/labels.csv\")\n",
        "print(labels.describe())\n",
        "print(labels.head())"
      ],
      "execution_count": null,
      "outputs": []
    },
    {
      "cell_type": "code",
      "metadata": {
        "id": "1K5a6tTLRuUh"
      },
      "source": [
        "labels['breed'].value_counts()"
      ],
      "execution_count": null,
      "outputs": []
    },
    {
      "cell_type": "code",
      "metadata": {
        "id": "k_UheqH7SOsq"
      },
      "source": [
        "labels['breed'].value_counts().plot.bar(figsize=(20, 10));"
      ],
      "execution_count": null,
      "outputs": []
    },
    {
      "cell_type": "code",
      "metadata": {
        "id": "XaG24IkgScxL"
      },
      "source": [
        "# median labels per breed to get distribution of data\n",
        "labels['breed'].value_counts().median()"
      ],
      "execution_count": null,
      "outputs": []
    },
    {
      "cell_type": "code",
      "metadata": {
        "id": "QdGTETfMS7JI"
      },
      "source": [
        " # View an Image\n",
        " from IPython.display import Image\n",
        " Image('drive/MyDrive/Dog Breed Identification using Tensorflow/data/train/0021f9ceb3235effd7fcde7f7538ed62.jpg')"
      ],
      "execution_count": null,
      "outputs": []
    },
    {
      "cell_type": "code",
      "metadata": {
        "id": "trFT1f3BUKYE"
      },
      "source": [
        "# create pathname "
      ],
      "execution_count": null,
      "outputs": []
    }
  ]
}