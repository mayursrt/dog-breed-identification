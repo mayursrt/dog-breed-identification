{
  "nbformat": 4,
  "nbformat_minor": 0,
  "metadata": {
    "colab": {
      "name": "dog-breed-identification.ipynb",
      "provenance": [],
      "collapsed_sections": [],
      "mount_file_id": "119e9qVOzpMxisOu3N88wO3G9KyYJWIos",
      "authorship_tag": "ABX9TyOWXnn5KvPgK5Qcc1/amSb+",
      "include_colab_link": true
    },
    "kernelspec": {
      "name": "python3",
      "display_name": "Python 3"
    },
    "language_info": {
      "name": "python"
    },
    "accelerator": "GPU"
  },
  "cells": [
    {
      "cell_type": "markdown",
      "metadata": {
        "id": "view-in-github",
        "colab_type": "text"
      },
      "source": [
        "<a href=\"https://colab.research.google.com/github/mayursrt/dog-breed-identification/blob/main/dog_breed_identification.ipynb\" target=\"_parent\"><img src=\"https://colab.research.google.com/assets/colab-badge.svg\" alt=\"Open In Colab\"/></a>"
      ]
    },
    {
      "cell_type": "markdown",
      "metadata": {
        "id": "b8rX78bLy4KB"
      },
      "source": [
        "# Dog Breed Identification\n",
        "This notebook builds an end-to-end multi-class image classifier using TensorFlow 2.x and TensorFlow Hub.\n",
        "\n",
        "1. Problem\n",
        "Identifying the breed of a dog given an image of a dog.\n",
        "\n",
        "When I'm sitting at the cafe and I take a photo of a dog, I want to know what breed of dog it is.\n",
        "\n",
        "2. Data\n",
        "The data we're using is from Kaggle's dog breed identification competition. You can get the data here:\n",
        "\n",
        "https://www.kaggle.com/c/dog-breed-identification/data\n",
        "\n",
        "3. Evaluation\n",
        "The evaluation is a file with prediction probabilities for each dog breed of each test image.\n",
        "\n",
        "https://www.kaggle.com/c/dog-breed-identification/overview/evaluation\n",
        "\n",
        "4. Features\n",
        "Some information about the data:\n",
        "\n",
        "* We're dealing with images (unstructured data) so it's probably best we use deep learning/transfer learning.\n",
        "* There are 120 breeds of dogs (this means there are 120 different classes).\n",
        "* There are around 10,000+ images in the training set (these images have labels).\n",
        "* There are around 10,000+ images in the test set (these images have no labels, because we'll want to predict them).\n",
        "\n",
        "\n",
        "### Getting the workspace ready\n",
        "First Import all the packages needed for the task:\n",
        "* TensorFlow 2.x\n",
        "* TensorFlow Hub\n",
        "\n",
        "Also check if you're using a GPU.\n"
      ]
    },
    {
      "cell_type": "code",
      "metadata": {
        "id": "sy1JhpE1CYmJ",
        "colab": {
          "base_uri": "https://localhost:8080/"
        },
        "outputId": "76486d1b-5304-4773-dfed-678574af8326"
      },
      "source": [
        "# import packages and check their versions\n",
        "import tensorflow as tf\n",
        "import tensorflow_hub as hub\n",
        "print('TensorFlow version:', tf.__version__)\n",
        "print('TensorFlow Hub version:', hub.__version__)"
      ],
      "execution_count": 1,
      "outputs": [
        {
          "output_type": "stream",
          "text": [
            "TensorFlow version: 2.4.1\n",
            "TensorFlow Hub version: 0.11.0\n"
          ],
          "name": "stdout"
        }
      ]
    },
    {
      "cell_type": "code",
      "metadata": {
        "id": "Cl8Ra5cuC80R",
        "colab": {
          "base_uri": "https://localhost:8080/"
        },
        "outputId": "589bf038-215a-4308-be30-31b272154f02"
      },
      "source": [
        "# check GPU availability\n",
        "print(\"GPU\", \"available\" if tf.config.list_physical_devices(\"GPU\") else \"not available\")"
      ],
      "execution_count": 2,
      "outputs": [
        {
          "output_type": "stream",
          "text": [
            "GPU available\n"
          ],
          "name": "stdout"
        }
      ]
    },
    {
      "cell_type": "markdown",
      "metadata": {
        "id": "n-9ZZHrGFz7y"
      },
      "source": [
        "**NOTE:** This project will not be able to run if there is no GPU available. If using Google Colab, Goto Runtime > Change Runtime Type > Select GPU."
      ]
    },
    {
      "cell_type": "markdown",
      "metadata": {
        "id": "CAHTj40EEK0E"
      },
      "source": [
        "### Getting our data ready (turning into Tensors)\n",
        "With all machine learning models, our data has to be in numerical format. So that's what we'll be doing first. Turning our images into Tensors (numerical representations).\n",
        "\n",
        "Let's start by accessing our data and checking out the labels."
      ]
    },
    {
      "cell_type": "code",
      "metadata": {
        "id": "cCCmSIEMQgSS",
        "colab": {
          "base_uri": "https://localhost:8080/"
        },
        "outputId": "9c8016aa-e6f2-4889-d3cf-858815a962fd"
      },
      "source": [
        "# Checkout the labels of the data\n",
        "import pandas as pd\n",
        "labels_csv = pd.read_csv(\"drive/MyDrive/Dog Breed Identification using Tensorflow/data/labels.csv\")\n",
        "print(labels_csv.describe())\n",
        "print(labels_csv.head())"
      ],
      "execution_count": 3,
      "outputs": [
        {
          "output_type": "stream",
          "text": [
            "                                      id               breed\n",
            "count                              10222               10222\n",
            "unique                             10222                 120\n",
            "top     e13bcf54507eaba884de1faea9af4dd9  scottish_deerhound\n",
            "freq                                   1                 126\n",
            "                                 id             breed\n",
            "0  000bec180eb18c7604dcecc8fe0dba07       boston_bull\n",
            "1  001513dfcb2ffafc82cccf4d8bbaba97             dingo\n",
            "2  001cdf01b096e06d78e9e5112d419397          pekinese\n",
            "3  00214f311d5d2247d5dfe4fe24b2303d          bluetick\n",
            "4  0021f9ceb3235effd7fcde7f7538ed62  golden_retriever\n"
          ],
          "name": "stdout"
        }
      ]
    },
    {
      "cell_type": "code",
      "metadata": {
        "id": "1K5a6tTLRuUh",
        "colab": {
          "base_uri": "https://localhost:8080/"
        },
        "outputId": "245af619-86e5-47bb-c9c0-10d4cc5281fd"
      },
      "source": [
        "labels_csv['breed'].value_counts()"
      ],
      "execution_count": 4,
      "outputs": [
        {
          "output_type": "execute_result",
          "data": {
            "text/plain": [
              "scottish_deerhound      126\n",
              "maltese_dog             117\n",
              "afghan_hound            116\n",
              "entlebucher             115\n",
              "bernese_mountain_dog    114\n",
              "                       ... \n",
              "brabancon_griffon        67\n",
              "golden_retriever         67\n",
              "komondor                 67\n",
              "briard                   66\n",
              "eskimo_dog               66\n",
              "Name: breed, Length: 120, dtype: int64"
            ]
          },
          "metadata": {
            "tags": []
          },
          "execution_count": 4
        }
      ]
    },
    {
      "cell_type": "code",
      "metadata": {
        "id": "k_UheqH7SOsq",
        "colab": {
          "base_uri": "https://localhost:8080/",
          "height": 702
        },
        "outputId": "bbb50aeb-b7bc-4472-bd10-c324856ff47f"
      },
      "source": [
        "labels_csv['breed'].value_counts().plot.bar(figsize=(20, 10));"
      ],
      "execution_count": 5,
      "outputs": [
        {
          "output_type": "display_data",
          "data": {
            "image/png": "[encoded data removed]",
            "text/plain": [
              "<Figure size 1440x720 with 1 Axes>"
            ]
          },
          "metadata": {
            "tags": [],
            "needs_background": "light"
          }
        }
      ]
    },
    {
      "cell_type": "code",
      "metadata": {
        "id": "XaG24IkgScxL",
        "colab": {
          "base_uri": "https://localhost:8080/"
        },
        "outputId": "c6494809-4e1f-4afa-bc07-0c465da98d80"
      },
      "source": [
        "# median labels per breed to get distribution of data\n",
        "labels_csv['breed'].value_counts().median()"
      ],
      "execution_count": 6,
      "outputs": [
        {
          "output_type": "execute_result",
          "data": {
            "text/plain": [
              "82.0"
            ]
          },
          "metadata": {
            "tags": []
          },
          "execution_count": 6
        }
      ]
    },
    {
      "cell_type": "code",
      "metadata": {
        "id": "QdGTETfMS7JI",
        "colab": {
          "base_uri": "https://localhost:8080/",
          "height": 517
        },
        "outputId": "80046c34-4850-4d7a-f291-daa3719e3ef7"
      },
      "source": [
        " # View an Image\n",
        " from IPython.display import Image\n",
        " Image('drive/MyDrive/Dog Breed Identification using Tensorflow/data/train/0021f9ceb3235effd7fcde7f7538ed62.jpg')"
      ],
      "execution_count": 7,
      "outputs": [
        {
          "output_type": "execute_result",
          "data": {
            "image/jpeg": "[encoded data removed]",
            "text/plain": [
              "<IPython.core.display.Image object>"
            ]
          },
          "metadata": {
            "tags": []
          },
          "execution_count": 7
        }
      ]
    },
    {
      "cell_type": "markdown",
      "metadata": {
        "id": "ERNBTE4mzZPN"
      },
      "source": [
        "\n",
        "\n",
        "### Getting images and their labels\n",
        "Get the list of all image file pathnames."
      ]
    },
    {
      "cell_type": "code",
      "metadata": {
        "id": "trFT1f3BUKYE",
        "colab": {
          "base_uri": "https://localhost:8080/"
        },
        "outputId": "3a55dbcf-d3df-469f-9fab-1dd3e38650d9"
      },
      "source": [
        "# create pathnames for image ids\n",
        "filenames = ['drive/MyDrive/Dog Breed Identification using Tensorflow/data/train/' + fname + '.jpg' for fname in labels_csv ['id']]\n",
        "filenames[:10]"
      ],
      "execution_count": 8,
      "outputs": [
        {
          "output_type": "execute_result",
          "data": {
            "text/plain": [
              "['drive/MyDrive/Dog Breed Identification using Tensorflow/data/train/000bec180eb18c7604dcecc8fe0dba07.jpg',\n",
              " 'drive/MyDrive/Dog Breed Identification using Tensorflow/data/train/001513dfcb2ffafc82cccf4d8bbaba97.jpg',\n",
              " 'drive/MyDrive/Dog Breed Identification using Tensorflow/data/train/001cdf01b096e06d78e9e5112d419397.jpg',\n",
              " 'drive/MyDrive/Dog Breed Identification using Tensorflow/data/train/00214f311d5d2247d5dfe4fe24b2303d.jpg',\n",
              " 'drive/MyDrive/Dog Breed Identification using Tensorflow/data/train/0021f9ceb3235effd7fcde7f7538ed62.jpg',\n",
              " 'drive/MyDrive/Dog Breed Identification using Tensorflow/data/train/002211c81b498ef88e1b40b9abf84e1d.jpg',\n",
              " 'drive/MyDrive/Dog Breed Identification using Tensorflow/data/train/00290d3e1fdd27226ba27a8ce248ce85.jpg',\n",
              " 'drive/MyDrive/Dog Breed Identification using Tensorflow/data/train/002a283a315af96eaea0e28e7163b21b.jpg',\n",
              " 'drive/MyDrive/Dog Breed Identification using Tensorflow/data/train/003df8b8a8b05244b1d920bb6cf451f9.jpg',\n",
              " 'drive/MyDrive/Dog Breed Identification using Tensorflow/data/train/0042188c895a2f14ef64a918ed9c7b64.jpg']"
            ]
          },
          "metadata": {
            "tags": []
          },
          "execution_count": 8
        }
      ]
    },
    {
      "cell_type": "code",
      "metadata": {
        "id": "J0PM-Qn90CkE",
        "colab": {
          "base_uri": "https://localhost:8080/"
        },
        "outputId": "c380f55d-2a5a-4d41-9749-b9da35e757d0"
      },
      "source": [
        "# check if the number of filenames match the number of actual image files(this can be caused by incomplete upload of the files)\n",
        "import os\n",
        "if len(os.listdir('drive/MyDrive/Dog Breed Identification using Tensorflow/data/train/')) == len(filenames):\n",
        "  print('Filenames match actual amount of files..!!! you can proceed.')\n",
        "else:\n",
        "  print('Filenames do not match the actual amount of files..!! please try and reupload the data directory')"
      ],
      "execution_count": 9,
      "outputs": [
        {
          "output_type": "stream",
          "text": [
            "Filenames match actual amount of files..!!! you can proceed.\n"
          ],
          "name": "stdout"
        }
      ]
    },
    {
      "cell_type": "markdown",
      "metadata": {
        "id": "90HKodcs2MZa"
      },
      "source": [
        "Preparing the labels"
      ]
    },
    {
      "cell_type": "code",
      "metadata": {
        "id": "_le2jSvr2yTn",
        "colab": {
          "base_uri": "https://localhost:8080/"
        },
        "outputId": "e24924d4-e1d9-44b7-b100-42104a5d3aa8"
      },
      "source": [
        "import numpy as np\n",
        "# transforming labels so that they can be used.\n",
        "labels = np.array(labels_csv['breed'])  ## can also use labels = labels_csv['breed'].to_numpy()\n",
        "labels"
      ],
      "execution_count": 10,
      "outputs": [
        {
          "output_type": "execute_result",
          "data": {
            "text/plain": [
              "array(['boston_bull', 'dingo', 'pekinese', ..., 'airedale',\n",
              "       'miniature_pinscher', 'chesapeake_bay_retriever'], dtype=object)"
            ]
          },
          "metadata": {
            "tags": []
          },
          "execution_count": 10
        }
      ]
    },
    {
      "cell_type": "code",
      "metadata": {
        "id": "g1o5MTy334qx",
        "colab": {
          "base_uri": "https://localhost:8080/"
        },
        "outputId": "bc8bf4f7-a3e6-49f4-8f7f-bc401b1d8750"
      },
      "source": [
        "#check length of labels\n",
        "len(labels)"
      ],
      "execution_count": 11,
      "outputs": [
        {
          "output_type": "execute_result",
          "data": {
            "text/plain": [
              "10222"
            ]
          },
          "metadata": {
            "tags": []
          },
          "execution_count": 11
        }
      ]
    },
    {
      "cell_type": "code",
      "metadata": {
        "id": "hHBOLf744GUB",
        "colab": {
          "base_uri": "https://localhost:8080/"
        },
        "outputId": "85ca0df6-00ef-4c29-8b0e-f5f5d5814490"
      },
      "source": [
        "# see if the number of labels match the length of filenames\n",
        "if len(labels) == len(filenames):\n",
        "  print('Filenames match actual amount of files..!!! you can proceed.')\n",
        "else:\n",
        "  print('Filenames do not match the actual amount of files..!! please try and reupload the data directory')"
      ],
      "execution_count": 12,
      "outputs": [
        {
          "output_type": "stream",
          "text": [
            "Filenames match actual amount of files..!!! you can proceed.\n"
          ],
          "name": "stdout"
        }
      ]
    },
    {
      "cell_type": "code",
      "metadata": {
        "id": "ViQrIuT_4w1L",
        "colab": {
          "base_uri": "https://localhost:8080/"
        },
        "outputId": "1a3646c3-9e8a-44ec-81ba-73297bbb733a"
      },
      "source": [
        "#find unique label values\n",
        "unique_breeds = np.unique(labels)\n",
        "unique_breeds"
      ],
      "execution_count": 13,
      "outputs": [
        {
          "output_type": "execute_result",
          "data": {
            "text/plain": [
              "array(['affenpinscher', 'afghan_hound', 'african_hunting_dog', 'airedale',\n",
              "       'american_staffordshire_terrier', 'appenzeller',\n",
              "       'australian_terrier', 'basenji', 'basset', 'beagle',\n",
              "       'bedlington_terrier', 'bernese_mountain_dog',\n",
              "       'black-and-tan_coonhound', 'blenheim_spaniel', 'bloodhound',\n",
              "       'bluetick', 'border_collie', 'border_terrier', 'borzoi',\n",
              "       'boston_bull', 'bouvier_des_flandres', 'boxer',\n",
              "       'brabancon_griffon', 'briard', 'brittany_spaniel', 'bull_mastiff',\n",
              "       'cairn', 'cardigan', 'chesapeake_bay_retriever', 'chihuahua',\n",
              "       'chow', 'clumber', 'cocker_spaniel', 'collie',\n",
              "       'curly-coated_retriever', 'dandie_dinmont', 'dhole', 'dingo',\n",
              "       'doberman', 'english_foxhound', 'english_setter',\n",
              "       'english_springer', 'entlebucher', 'eskimo_dog',\n",
              "       'flat-coated_retriever', 'french_bulldog', 'german_shepherd',\n",
              "       'german_short-haired_pointer', 'giant_schnauzer',\n",
              "       'golden_retriever', 'gordon_setter', 'great_dane',\n",
              "       'great_pyrenees', 'greater_swiss_mountain_dog', 'groenendael',\n",
              "       'ibizan_hound', 'irish_setter', 'irish_terrier',\n",
              "       'irish_water_spaniel', 'irish_wolfhound', 'italian_greyhound',\n",
              "       'japanese_spaniel', 'keeshond', 'kelpie', 'kerry_blue_terrier',\n",
              "       'komondor', 'kuvasz', 'labrador_retriever', 'lakeland_terrier',\n",
              "       'leonberg', 'lhasa', 'malamute', 'malinois', 'maltese_dog',\n",
              "       'mexican_hairless', 'miniature_pinscher', 'miniature_poodle',\n",
              "       'miniature_schnauzer', 'newfoundland', 'norfolk_terrier',\n",
              "       'norwegian_elkhound', 'norwich_terrier', 'old_english_sheepdog',\n",
              "       'otterhound', 'papillon', 'pekinese', 'pembroke', 'pomeranian',\n",
              "       'pug', 'redbone', 'rhodesian_ridgeback', 'rottweiler',\n",
              "       'saint_bernard', 'saluki', 'samoyed', 'schipperke',\n",
              "       'scotch_terrier', 'scottish_deerhound', 'sealyham_terrier',\n",
              "       'shetland_sheepdog', 'shih-tzu', 'siberian_husky', 'silky_terrier',\n",
              "       'soft-coated_wheaten_terrier', 'staffordshire_bullterrier',\n",
              "       'standard_poodle', 'standard_schnauzer', 'sussex_spaniel',\n",
              "       'tibetan_mastiff', 'tibetan_terrier', 'toy_poodle', 'toy_terrier',\n",
              "       'vizsla', 'walker_hound', 'weimaraner', 'welsh_springer_spaniel',\n",
              "       'west_highland_white_terrier', 'whippet',\n",
              "       'wire-haired_fox_terrier', 'yorkshire_terrier'], dtype=object)"
            ]
          },
          "metadata": {
            "tags": []
          },
          "execution_count": 13
        }
      ]
    },
    {
      "cell_type": "code",
      "metadata": {
        "id": "xG67j0HN6t0C",
        "colab": {
          "base_uri": "https://localhost:8080/"
        },
        "outputId": "92769722-9284-4ad6-9e5e-402e51f2c1d3"
      },
      "source": [
        "#len of unique breeds\n",
        "len(unique_breeds)"
      ],
      "execution_count": 14,
      "outputs": [
        {
          "output_type": "execute_result",
          "data": {
            "text/plain": [
              "120"
            ]
          },
          "metadata": {
            "tags": []
          },
          "execution_count": 14
        }
      ]
    },
    {
      "cell_type": "code",
      "metadata": {
        "id": "nsujnD_U5F_S",
        "colab": {
          "base_uri": "https://localhost:8080/"
        },
        "outputId": "74695f9e-b7f6-40e7-824e-4d37af6806ed"
      },
      "source": [
        "#turning a label into a boolean array\n",
        "print(labels[0])\n",
        "labels[0] == unique_breeds"
      ],
      "execution_count": 15,
      "outputs": [
        {
          "output_type": "stream",
          "text": [
            "boston_bull\n"
          ],
          "name": "stdout"
        },
        {
          "output_type": "execute_result",
          "data": {
            "text/plain": [
              "array([False, False, False, False, False, False, False, False, False,\n",
              "       False, False, False, False, False, False, False, False, False,\n",
              "       False,  True, False, False, False, False, False, False, False,\n",
              "       False, False, False, False, False, False, False, False, False,\n",
              "       False, False, False, False, False, False, False, False, False,\n",
              "       False, False, False, False, False, False, False, False, False,\n",
              "       False, False, False, False, False, False, False, False, False,\n",
              "       False, False, False, False, False, False, False, False, False,\n",
              "       False, False, False, False, False, False, False, False, False,\n",
              "       False, False, False, False, False, False, False, False, False,\n",
              "       False, False, False, False, False, False, False, False, False,\n",
              "       False, False, False, False, False, False, False, False, False,\n",
              "       False, False, False, False, False, False, False, False, False,\n",
              "       False, False, False])"
            ]
          },
          "metadata": {
            "tags": []
          },
          "execution_count": 15
        }
      ]
    },
    {
      "cell_type": "code",
      "metadata": {
        "id": "o79R0RdV5yKl",
        "colab": {
          "base_uri": "https://localhost:8080/"
        },
        "outputId": "485b527d-97be-4cb0-98a6-a241f977c78f"
      },
      "source": [
        "# likewise turning all labels in boolean array\n",
        "labels_bool = [labels == unique_breeds for labels in labels]\n",
        "labels_bool[:2]"
      ],
      "execution_count": 16,
      "outputs": [
        {
          "output_type": "execute_result",
          "data": {
            "text/plain": [
              "[array([False, False, False, False, False, False, False, False, False,\n",
              "        False, False, False, False, False, False, False, False, False,\n",
              "        False,  True, False, False, False, False, False, False, False,\n",
              "        False, False, False, False, False, False, False, False, False,\n",
              "        False, False, False, False, False, False, False, False, False,\n",
              "        False, False, False, False, False, False, False, False, False,\n",
              "        False, False, False, False, False, False, False, False, False,\n",
              "        False, False, False, False, False, False, False, False, False,\n",
              "        False, False, False, False, False, False, False, False, False,\n",
              "        False, False, False, False, False, False, False, False, False,\n",
              "        False, False, False, False, False, False, False, False, False,\n",
              "        False, False, False, False, False, False, False, False, False,\n",
              "        False, False, False, False, False, False, False, False, False,\n",
              "        False, False, False]),\n",
              " array([False, False, False, False, False, False, False, False, False,\n",
              "        False, False, False, False, False, False, False, False, False,\n",
              "        False, False, False, False, False, False, False, False, False,\n",
              "        False, False, False, False, False, False, False, False, False,\n",
              "        False,  True, False, False, False, False, False, False, False,\n",
              "        False, False, False, False, False, False, False, False, False,\n",
              "        False, False, False, False, False, False, False, False, False,\n",
              "        False, False, False, False, False, False, False, False, False,\n",
              "        False, False, False, False, False, False, False, False, False,\n",
              "        False, False, False, False, False, False, False, False, False,\n",
              "        False, False, False, False, False, False, False, False, False,\n",
              "        False, False, False, False, False, False, False, False, False,\n",
              "        False, False, False, False, False, False, False, False, False,\n",
              "        False, False, False])]"
            ]
          },
          "metadata": {
            "tags": []
          },
          "execution_count": 16
        }
      ]
    },
    {
      "cell_type": "code",
      "metadata": {
        "id": "mZMZvWTZ7jvW",
        "colab": {
          "base_uri": "https://localhost:8080/"
        },
        "outputId": "7ab99a0b-80bf-4b84-9881-e45de3515fd1"
      },
      "source": [
        "# turning boolean array into integers #maybe not needed\n",
        "\n",
        "print(labels[0])\n",
        "print(np.where(unique_breeds == labels[0]))\n",
        "print(labels_bool[0].argmax())\n",
        "print(labels_bool[0].astype(int))"
      ],
      "execution_count": 17,
      "outputs": [
        {
          "output_type": "stream",
          "text": [
            "boston_bull\n",
            "(array([19]),)\n",
            "19\n",
            "[0 0 0 0 0 0 0 0 0 0 0 0 0 0 0 0 0 0 0 1 0 0 0 0 0 0 0 0 0 0 0 0 0 0 0 0 0\n",
            " 0 0 0 0 0 0 0 0 0 0 0 0 0 0 0 0 0 0 0 0 0 0 0 0 0 0 0 0 0 0 0 0 0 0 0 0 0\n",
            " 0 0 0 0 0 0 0 0 0 0 0 0 0 0 0 0 0 0 0 0 0 0 0 0 0 0 0 0 0 0 0 0 0 0 0 0 0\n",
            " 0 0 0 0 0 0 0 0 0]\n"
          ],
          "name": "stdout"
        }
      ]
    },
    {
      "cell_type": "markdown",
      "metadata": {
        "id": "G9Xnsz4npsYB"
      },
      "source": [
        "### Creating validation set \n",
        "since we do not have validation set in our dataset, we need to create one so that we can run validation tests on the validation set.\n",
        "\n",
        "we can use `train_test_split` for this job"
      ]
    },
    {
      "cell_type": "code",
      "metadata": {
        "id": "98jUNJ3rtBlc"
      },
      "source": [
        "# split into X and y\n",
        "\n",
        "X = filenames\n",
        "y = labels_bool"
      ],
      "execution_count": 18,
      "outputs": []
    },
    {
      "cell_type": "markdown",
      "metadata": {
        "id": "ZF2Z-7_Vt6zx"
      },
      "source": [
        "Starting off with ~1000 images since we need to reduce time taken for running the model"
      ]
    },
    {
      "cell_type": "code",
      "metadata": {
        "id": "Z5sfeD_Ou5a6"
      },
      "source": [
        "# set number of images used for experimenting\n",
        "# if using jupyter notebook, set images number direct to a value\n",
        "#NUM_IMAGES = 1000\n",
        "# OR\n",
        "# we can also use slider to set the number of images and increase them on the go if you are using Google Colab.\n",
        "NUM_IMAGES = 1000 #@param {type:\"slider\", min:1000, max:10222, step:500}"
      ],
      "execution_count": 19,
      "outputs": []
    },
    {
      "cell_type": "code",
      "metadata": {
        "id": "9bmvdvdkwTIJ",
        "colab": {
          "base_uri": "https://localhost:8080/"
        },
        "outputId": "06312fbc-905f-4d91-d54a-7b1a59696e06"
      },
      "source": [
        "# spliting data into train and validation set\n",
        "\n",
        "from sklearn.model_selection import train_test_split\n",
        "\n",
        "# Split them into training and validation of total size NUM_IMAGES\n",
        "np.random.seed(42)\n",
        "X_train, X_val, y_train, y_val = train_test_split(X[:NUM_IMAGES], y[:NUM_IMAGES], test_size=0.2)\n",
        "len(X_train), len(y_train), len(X_val), len(y_val)"
      ],
      "execution_count": 20,
      "outputs": [
        {
          "output_type": "execute_result",
          "data": {
            "text/plain": [
              "(800, 800, 200, 200)"
            ]
          },
          "metadata": {
            "tags": []
          },
          "execution_count": 20
        }
      ]
    },
    {
      "cell_type": "markdown",
      "metadata": {
        "id": "tsst7GzE08ie"
      },
      "source": [
        "### Preprocessing Images(turning Images into Tensors)\n",
        "Since we might need to reuse the functionality of preprocessing the data, we need to create a function so that it is easy to reuse it.\n",
        "\n",
        "\n",
        "To preprocess our images into Tensors we're going to write a function which does a few things:\n",
        "\n",
        "1. Take an image filepath as input\n",
        "1. Use TensorFlow to read the file and save it to a variable, `image`\n",
        "1. Turn our `image` (a jpg) into Tensors\n",
        "1. Normalize our image (convert color channel values from from 0-255 to 0-1).\n",
        "1. Resize the `image` to be a shape of (224, 224)\n",
        "1. Return the modified `image`"
      ]
    },
    {
      "cell_type": "code",
      "metadata": {
        "id": "cY48B7N63mXN",
        "colab": {
          "base_uri": "https://localhost:8080/"
        },
        "outputId": "e8781c78-1961-4d03-986b-70fcb5f5ed39"
      },
      "source": [
        "# lets look how image looks in a numpy array vs in a tensor\n",
        "from matplotlib.pyplot import imread\n",
        "image = imread(filenames[45])\n",
        "# image in form of a numpy array\n",
        "image[:2]"
      ],
      "execution_count": 21,
      "outputs": [
        {
          "output_type": "execute_result",
          "data": {
            "text/plain": [
              "array([[[85, 66, 60],\n",
              "        [86, 67, 61],\n",
              "        [84, 65, 59],\n",
              "        ...,\n",
              "        [41, 26, 23],\n",
              "        [48, 33, 30],\n",
              "        [51, 36, 33]],\n",
              "\n",
              "       [[85, 66, 60],\n",
              "        [89, 70, 64],\n",
              "        [88, 69, 63],\n",
              "        ...,\n",
              "        [51, 36, 33],\n",
              "        [58, 43, 40],\n",
              "        [61, 46, 43]]], dtype=uint8)"
            ]
          },
          "metadata": {
            "tags": []
          },
          "execution_count": 21
        }
      ]
    },
    {
      "cell_type": "code",
      "metadata": {
        "id": "SH8SB4is4CL4",
        "colab": {
          "base_uri": "https://localhost:8080/"
        },
        "outputId": "e1ba804b-aefa-4dec-bebc-d5217c062e9b"
      },
      "source": [
        "#image in form of a tensor\n",
        "tf.constant(image)[:2]"
      ],
      "execution_count": 22,
      "outputs": [
        {
          "output_type": "execute_result",
          "data": {
            "text/plain": [
              "<tf.Tensor: shape=(2, 500, 3), dtype=uint8, numpy=\n",
              "array([[[85, 66, 60],\n",
              "        [86, 67, 61],\n",
              "        [84, 65, 59],\n",
              "        ...,\n",
              "        [41, 26, 23],\n",
              "        [48, 33, 30],\n",
              "        [51, 36, 33]],\n",
              "\n",
              "       [[85, 66, 60],\n",
              "        [89, 70, 64],\n",
              "        [88, 69, 63],\n",
              "        ...,\n",
              "        [51, 36, 33],\n",
              "        [58, 43, 40],\n",
              "        [61, 46, 43]]], dtype=uint8)>"
            ]
          },
          "metadata": {
            "tags": []
          },
          "execution_count": 22
        }
      ]
    },
    {
      "cell_type": "code",
      "metadata": {
        "id": "zFOj7pj51mvi"
      },
      "source": [
        "# creating the function\n",
        "\n",
        "# Define image size\n",
        "IMG_SIZE = 224\n",
        "\n",
        "# write function\n",
        "def process_image(image_path, img_size=IMG_SIZE):\n",
        "  \"\"\"\n",
        "  Takes an image file path and turns the image into a Tensor.\n",
        "  \"\"\"\n",
        "  # Read in an image file\n",
        "  image = tf.io.read_file(image_path)\n",
        "  # turn jpg image to numerical tensor with 3 color channels RGB\n",
        "  image = tf.image.decode_jpeg(image, channels=3)\n",
        "  # convert colour channel values from 0-255 to 0-1 values\n",
        "  image = tf.image.convert_image_dtype(image, tf.float32)\n",
        "  # resize image\n",
        "  image =  tf.image.resize(image, size=[IMG_SIZE, IMG_SIZE])\n",
        "  # return image\n",
        "\n",
        "  return image"
      ],
      "execution_count": 23,
      "outputs": []
    },
    {
      "cell_type": "markdown",
      "metadata": {
        "id": "xI0ychxc65xC"
      },
      "source": [
        "### Turning data into batches \n",
        "\n",
        "Why turn our data into batches?\n",
        "\n",
        "Let's say you're trying to process 10,000+ images in one go... they all might not fit into memory.\n",
        "\n",
        "So that's why we do about 32 (this is the batch size) images at a time (you can manually adjust the batch size if need be).\n",
        "\n",
        "In order to use TensorFlow effectively, we need our data in the form of Tensor tuples which look like this: `(image, label)`."
      ]
    },
    {
      "cell_type": "code",
      "metadata": {
        "id": "1LFYFasyWsKQ"
      },
      "source": [
        "# Create func to return a tuple (image, label)\n",
        "\n",
        "def get_image_label(image_path, label):\n",
        "  \"\"\"\n",
        "  Takes an image file path name and the assosciated label,\n",
        "  processes the image and reutrns a typle of (image, label).\n",
        "  \"\"\"\n",
        "  image = process_image(image_path)\n",
        "  return image, label"
      ],
      "execution_count": 24,
      "outputs": []
    },
    {
      "cell_type": "code",
      "metadata": {
        "id": "8YELZipjXmeW"
      },
      "source": [
        "# Create function to turn all the data into batches.\n",
        "\n",
        "# Define batch size\n",
        "BATCH_SIZE = 32\n",
        "\n",
        "def create_data_batches(X, y=None, batch_size=BATCH_SIZE, valid_data=False, test_data=False):\n",
        "  \"\"\"\n",
        "  Creates batches of data out of image (X) and label (y) pairs.\n",
        "  Shuffles the data if it's training data but doesn't shuffle if it's validation data.\n",
        "  Also accepts test data as input (no labels).\n",
        "  \"\"\"\n",
        "  # if the data is a test dataset, we will not have labels\n",
        "  if test_data:\n",
        "    print('Creating test data batches...')\n",
        "    data = tf.data.Dataset.from_tensor_slices((tf.constant(X)))\n",
        "    data_batch = data.map(process_image).batch(BATCH_SIZE)\n",
        "    return data_batch\n",
        "\n",
        "  # if the data is validation data, we don't need to shuffle it\n",
        "  elif valid_data:\n",
        "    print('Creating valid data batches...')\n",
        "    data = tf.data.Dataset.from_tensor_slices((tf.constant(X), tf.constant(y)))\n",
        "    data_batch = data.map(get_image_label).batch(BATCH_SIZE)\n",
        "    return data_batch\n",
        "\n",
        "  # else training data \n",
        "  else:\n",
        "    print('Creating train data batches...')\n",
        "    data = tf.data.Dataset.from_tensor_slices((tf.constant(X), tf.constant(y)))\n",
        "    # Shuffling pathnames and labels before mapping image processor function is faster than shuffling images\n",
        "    data = data.shuffle(buffer_size=len(X))\n",
        "\n",
        "    # Create (image, label) tuples (this also turns the iamge path into a preprocessed image)\n",
        "    data = data.map(get_image_label)\n",
        "\n",
        "    # Turn the training data into batches\n",
        "    data_batch = data.batch(BATCH_SIZE)\n",
        "  return data_batch"
      ],
      "execution_count": 25,
      "outputs": []
    },
    {
      "cell_type": "code",
      "metadata": {
        "id": "Px9LUcc6Y3ZX",
        "colab": {
          "base_uri": "https://localhost:8080/"
        },
        "outputId": "e0b741b1-806e-4586-89e2-3ec7da80cbec"
      },
      "source": [
        "# create training and validation data batches\n",
        "\n",
        "train_data = create_data_batches(X_train, y_train)\n",
        "valid_data = create_data_batches(X_val, y_val, valid_data=True)"
      ],
      "execution_count": 26,
      "outputs": [
        {
          "output_type": "stream",
          "text": [
            "Creating train data batches...\n",
            "Creating valid data batches...\n"
          ],
          "name": "stdout"
        }
      ]
    },
    {
      "cell_type": "markdown",
      "metadata": {
        "id": "tLwQ-GAvgZIn"
      },
      "source": [
        "### Visualizing Data Batches\n",
        "\n",
        "The data is batches, now we can visualize these batches so to understand it better.\n",
        "\n"
      ]
    },
    {
      "cell_type": "code",
      "metadata": {
        "id": "K4B7WCz9F6U0"
      },
      "source": [
        "import matplotlib.pyplot as plt\n",
        "\n",
        "# create func for viewing images in a data batch.\n",
        "def show_25_images(images, labels):\n",
        "  \"\"\"\n",
        "  Displays a plot of 25 images and their labels from a data batch.\n",
        "  \"\"\"\n",
        "  # Setup the figure\n",
        "  plt.figure(figsize=(10,10))\n",
        "  # Loop through 25 (for displaying 25 images)\n",
        "  for i in range(25):\n",
        "    # create subplots (5 rows, 5 columns)\n",
        "    ax = plt.subplot(5, 5, i+1)\n",
        "    # show image\n",
        "    plt.imshow(images[i])\n",
        "    # add title as image label\n",
        "    plt.title(unique_breeds[labels[i].argmax()])\n",
        "    # gridlines off\n",
        "    plt.axis('off')"
      ],
      "execution_count": 27,
      "outputs": []
    },
    {
      "cell_type": "markdown",
      "metadata": {
        "id": "ox-Hofy_Nbdu"
      },
      "source": [
        "Since the train data is in the form of batches, we need to revert it back to numpy arrays to visualize it. We do it by using `next()` function which Return the next item from the iterator. That paired with `as_numpy_iterator()` which turns a dataset to numpy array, will give the desired results."
      ]
    },
    {
      "cell_type": "code",
      "metadata": {
        "id": "HF7DKZn7Kj2t"
      },
      "source": [
        "# turn data batch to numpy array.\n",
        "## train_images, train_labels = next(train_data.as_numpy_iterator())\n",
        "# Visualize training data.\n",
        "## show_25_images(train_images, train_labels)"
      ],
      "execution_count": 28,
      "outputs": []
    },
    {
      "cell_type": "code",
      "metadata": {
        "id": "AAFYK1GfNE5-"
      },
      "source": [
        "# turn data batch to numpy array.\n",
        "## valid_images, valid_labels = next(valid_data.as_numpy_iterator())\n",
        "# Visualize validation data.\n",
        "## show_25_images(valid_images, valid_labels)"
      ],
      "execution_count": 29,
      "outputs": []
    },
    {
      "cell_type": "markdown",
      "metadata": {
        "id": "lS-xEhUYPnoS"
      },
      "source": [
        "### Building a model\n",
        "\n",
        "Before we build a model, there are a few things we need to define:\n",
        "\n",
        "* The input shape (our images shape, in the form of Tensors) to our model.\n",
        "* The output shape (image labels, in the form of Tensors) of our model.\n",
        "* The URL of the model we want to use from TensorFlow Hub - https://tfhub.dev/google/imagenet/mobilenet_v2_130_224/classification/4"
      ]
    },
    {
      "cell_type": "code",
      "metadata": {
        "id": "v73-GG2046o8"
      },
      "source": [
        "# Setup input shape of the model\n",
        "INPUT_SHAPE = [None, IMG_SIZE, IMG_SIZE, 3] #model will get input in the form of [batch, height, width, colour channels]\n",
        "# Setup output shape of the model\n",
        "OUTPUT_SHAPE = len(unique_breeds) # model will output boolean array of the label\n",
        "# Model url from TensorFlow Hub\n",
        "MODEL_URL = 'https://tfhub.dev/google/imagenet/mobilenet_v2_130_224/classification/4'"
      ],
      "execution_count": 30,
      "outputs": []
    },
    {
      "cell_type": "markdown",
      "metadata": {
        "id": "WjG9V17v9r9Y"
      },
      "source": [
        "We have inputs, outputs and model ready. We need to put them together into Keras deep learning model.\n",
        "\n",
        "Let's create a function which:\n",
        "\n",
        "* Takes the input shape, output shape and the model we've chosen as parameters.\n",
        "* Defines the layers in a Keras model in sequential fashion (each layer at a time).\n",
        "* Compiles the model (says it should be evaluated and improved).\n",
        "* Builds the model (tells the model the input shape it'll be getting).\n",
        "* Returns the model.\n",
        "\n",
        "All of these steps can be found here: https://www.tensorflow.org/guide/keras/overview"
      ]
    },
    {
      "cell_type": "code",
      "metadata": {
        "id": "XiSdvyFr-YG0"
      },
      "source": [
        "# Create a function which builds a Keras model\n",
        "def create_model(input_shape=INPUT_SHAPE, output_shape=OUTPUT_SHAPE, model_url=MODEL_URL):\n",
        "  print('Building model...')\n",
        "  print('Model url : ', MODEL_URL)\n",
        "\n",
        "  # Setup model layers\n",
        "  model = tf.keras.Sequential([\n",
        "                               hub.KerasLayer(MODEL_URL), # LAYER 1 (Input layer)\n",
        "                               tf.keras.layers.Dense(units=OUTPUT_SHAPE, activation='softmax') # LAYER 2 (Output Layer)\n",
        "                               ])\n",
        "  # Compile the model\n",
        "  model.compile(loss=tf.keras.losses.CategoricalCrossentropy(),\n",
        "                optimizer=tf.keras.optimizers.Adam(),\n",
        "                metrics=['accuracy'])\n",
        "  \n",
        "  # Build the model\n",
        "  model.build(INPUT_SHAPE)\n",
        "  \n",
        "  # Return the model\n",
        "  return model"
      ],
      "execution_count": 31,
      "outputs": []
    },
    {
      "cell_type": "code",
      "metadata": {
        "colab": {
          "base_uri": "https://localhost:8080/"
        },
        "id": "L_cKt0bbAisL",
        "outputId": "0e079800-9752-4010-ae78-ef8bbc43708a"
      },
      "source": [
        "model = create_model()\n",
        "model.summary()"
      ],
      "execution_count": 32,
      "outputs": [
        {
          "output_type": "stream",
          "text": [
            "Building model...\n",
            "Model url :  https://tfhub.dev/google/imagenet/mobilenet_v2_130_224/classification/4\n",
            "Model: \"sequential\"\n",
            "_________________________________________________________________\n",
            "Layer (type)                 Output Shape              Param #   \n",
            "=================================================================\n",
            "keras_layer (KerasLayer)     (None, 1001)              5432713   \n",
            "_________________________________________________________________\n",
            "dense (Dense)                (None, 120)               120240    \n",
            "=================================================================\n",
            "Total params: 5,552,953\n",
            "Trainable params: 120,240\n",
            "Non-trainable params: 5,432,713\n",
            "_________________________________________________________________\n"
          ],
          "name": "stdout"
        }
      ]
    },
    {
      "cell_type": "markdown",
      "metadata": {
        "id": "_qbr5B1oDQ-W"
      },
      "source": [
        "### Creating Callbacks\n",
        "\n",
        "Callbacks are helper functions a model can use during training to do such things as save its progress, check its progress or stop training early if a model stops improving.\n",
        "\n",
        "We'll create two callbacks, one for TensorBoard which helps track our models progress and another for early stopping which prevents our model from training for too long.\n",
        "\n"
      ]
    },
    {
      "cell_type": "markdown",
      "metadata": {
        "id": "nQ6Qc20sV3sb"
      },
      "source": [
        "#### TensorBoard Callback\n",
        "To setup a TensorBoard callback, we need to do 3 things:\n",
        "\n",
        "1. Load the TensorBoard notebook extension.\n",
        "1. Create a TensorBoard callback which is able to save logs to a directory and pass it to our model's fit() function.\n",
        "1. Visualize our models training logs with the %tensorboard magic function (after model training).\n",
        "\n",
        "Find more about TensorBoard Callback : https://www.tensorflow.org/api_docs/python/tf/keras/callbacks/TensorBoard"
      ]
    },
    {
      "cell_type": "code",
      "metadata": {
        "id": "ljx9LyE1ES1r"
      },
      "source": [
        "# Load TensorBoard notebook extension\n",
        "%load_ext tensorboard\n",
        "\n",
        "import datetime\n",
        "\n",
        "# create function to build tensorboard callback\n",
        "def create_tensorboard_callback():\n",
        "  # create log directory for noting down tensorboard logs\n",
        "  logdir = os.path.join('drive/MyDrive/Dog Breed Identification using Tensorflow/logs', datetime.datetime.now().strftime('%d%m%y-%H%M%S'))\n",
        "  return tf.keras.callbacks.TensorBoard(logdir)"
      ],
      "execution_count": 33,
      "outputs": []
    },
    {
      "cell_type": "markdown",
      "metadata": {
        "id": "Bj6yxf2zJZW2"
      },
      "source": [
        "#### Early Stopping Callback\n",
        "Early stopping helps stop our model from overfitting by stopping training if a certain evaluation metric stops improving.\n",
        "\n",
        "Find more about Early Stopping Callback : https://www.tensorflow.org/api_docs/python/tf/keras/callbacks/EarlyStopping"
      ]
    },
    {
      "cell_type": "code",
      "metadata": {
        "id": "Qlj8Ib0xKLVc"
      },
      "source": [
        "# create early stopping callback\n",
        "early_stopping = tf.keras.callbacks.EarlyStopping(monitor='val_accuracy', patience=3)"
      ],
      "execution_count": 34,
      "outputs": []
    },
    {
      "cell_type": "markdown",
      "metadata": {
        "id": "NDPw4Dw6NSg4"
      },
      "source": [
        "### Training a model\n",
        "\n",
        "Training a model will be done only on subset of data of ~1000 images, for making sure everything is working fine.\n",
        "\n"
      ]
    },
    {
      "cell_type": "code",
      "metadata": {
        "id": "9NfXqUI1P9Y4"
      },
      "source": [
        "# NUM_EPOCHS is the number of the passes the model will take.\n",
        "NUM_EPOCHS = 100 #@param {type:\"slider\", min:10, max:100, step:10}"
      ],
      "execution_count": 35,
      "outputs": []
    },
    {
      "cell_type": "code",
      "metadata": {
        "colab": {
          "base_uri": "https://localhost:8080/"
        },
        "id": "LyDyGcagVWbJ",
        "outputId": "ecae0c2c-2025-413d-b46c-07e32f422502"
      },
      "source": [
        "# check GPU availability\n",
        "print(\"GPU\", \"available\" if tf.config.list_physical_devices(\"GPU\") else \"not available\")"
      ],
      "execution_count": 36,
      "outputs": [
        {
          "output_type": "stream",
          "text": [
            "GPU available\n"
          ],
          "name": "stdout"
        }
      ]
    },
    {
      "cell_type": "markdown",
      "metadata": {
        "id": "3dH1WJsyV8Xd"
      },
      "source": [
        "Let's create a function with following functionality, which in the end trains the model,\n",
        "\n",
        "* Create model using the function `create_model()`\n",
        "* Setup a TensorBoard callback using the previously written function `create_tensorboard_callback()`\n",
        "* Call the `fit()` function on our model with training data, validation data, number of epochs to train for (`NUM_EPOCHS`) and the callbacks that we are going to use.\n",
        "* Return the model"
      ]
    },
    {
      "cell_type": "code",
      "metadata": {
        "id": "0HG1t_m1Wab8"
      },
      "source": [
        "# create function to train the model\n",
        "def train_model():\n",
        "  \"\"\"\n",
        "  Trains a given model and returns the trained version.\n",
        "  \"\"\"\n",
        "  # Create a model using the above func\n",
        "  model = create_model()\n",
        "\n",
        "  # Create new TensorBoard session everytime we train a model\n",
        "  tensorboard = create_tensorboard_callback()\n",
        "\n",
        "  # Fit the model to data using callbacks\n",
        "  model.fit(x=train_data, epochs=NUM_EPOCHS, validation_data=valid_data, validation_freq=1, callbacks=[tensorboard, early_stopping])\n",
        "\n",
        "  # Return the model\n",
        "  return model"
      ],
      "execution_count": 37,
      "outputs": []
    },
    {
      "cell_type": "code",
      "metadata": {
        "colab": {
          "base_uri": "https://localhost:8080/"
        },
        "id": "LadFk8B7oYUW",
        "outputId": "0b012bb9-de1e-4d0b-ed6a-6c7ad5c21649"
      },
      "source": [
        "# Fit the model to the data\n",
        "model = train_model()"
      ],
      "execution_count": 38,
      "outputs": [
        {
          "output_type": "stream",
          "text": [
            "Building model...\n",
            "Model url :  https://tfhub.dev/google/imagenet/mobilenet_v2_130_224/classification/4\n",
            "Epoch 1/100\n",
            "25/25 [==============================] - 642s 25s/step - loss: 5.2334 - accuracy: 0.0595 - val_loss: 3.3932 - val_accuracy: 0.2550\n",
            "Epoch 2/100\n",
            "25/25 [==============================] - 5s 209ms/step - loss: 1.9364 - accuracy: 0.6048 - val_loss: 2.1335 - val_accuracy: 0.4850\n",
            "Epoch 3/100\n",
            "25/25 [==============================] - 5s 208ms/step - loss: 0.6527 - accuracy: 0.9280 - val_loss: 1.6788 - val_accuracy: 0.5850\n",
            "Epoch 4/100\n",
            "25/25 [==============================] - 5s 209ms/step - loss: 0.2778 - accuracy: 0.9829 - val_loss: 1.4964 - val_accuracy: 0.6350\n",
            "Epoch 5/100\n",
            "25/25 [==============================] - 5s 211ms/step - loss: 0.1482 - accuracy: 0.9987 - val_loss: 1.4343 - val_accuracy: 0.6450\n",
            "Epoch 6/100\n",
            "25/25 [==============================] - 5s 211ms/step - loss: 0.1048 - accuracy: 0.9966 - val_loss: 1.3880 - val_accuracy: 0.6600\n",
            "Epoch 7/100\n",
            "25/25 [==============================] - 5s 211ms/step - loss: 0.0798 - accuracy: 1.0000 - val_loss: 1.3500 - val_accuracy: 0.6700\n",
            "Epoch 8/100\n",
            "25/25 [==============================] - 5s 208ms/step - loss: 0.0603 - accuracy: 1.0000 - val_loss: 1.3318 - val_accuracy: 0.6600\n",
            "Epoch 9/100\n",
            "25/25 [==============================] - 5s 210ms/step - loss: 0.0493 - accuracy: 1.0000 - val_loss: 1.3147 - val_accuracy: 0.6600\n",
            "Epoch 10/100\n",
            "25/25 [==============================] - 5s 208ms/step - loss: 0.0423 - accuracy: 1.0000 - val_loss: 1.2994 - val_accuracy: 0.6650\n"
          ],
          "name": "stdout"
        }
      ]
    },
    {
      "cell_type": "markdown",
      "metadata": {
        "id": "kwwP42rnfzWS"
      },
      "source": [
        "#### Checking the TensorBoard logs\n",
        "The TensorBoard function (`%tensorboard`) will access the logs directory we created earlier and visualize its contents using a TensorBoard dashboard. Visualizing is a better way to see and study the data that is in front of us."
      ]
    },
    {
      "cell_type": "code",
      "metadata": {
        "id": "R6Dc93wlgI4o"
      },
      "source": [
        "## %tensorboard --logdir drive/MyDrive/Dog\\ Breed\\ Identification\\ using\\ Tensorflow/logs"
      ],
      "execution_count": 43,
      "outputs": []
    },
    {
      "cell_type": "markdown",
      "metadata": {
        "id": "ssS0323nhjXj"
      },
      "source": [
        "### Making predictions on a trained model\n",
        "It is important to know that the predictions shall be in the format on which the model was trained on.\n",
        "First let's make predictions on the validation data that we created by splitting the training data. This will give us an idea about how well our model has learned which will give us a fair idea about how will it be performing when we test it against the test data.\n",
        "\n",
        "**Note**: Validation data was not used to train the model on.\n",
        "\n",
        "While make predictions on the Validation data, we will make predictions using only the data. Then we can compare them with the true labels to see how the model is performing."
      ]
    },
    {
      "cell_type": "code",
      "metadata": {
        "colab": {
          "base_uri": "https://localhost:8080/"
        },
        "id": "c0dy8jm3mEz1",
        "outputId": "149fa537-8cce-417e-8c4d-2f9a5af655f1"
      },
      "source": [
        "# Make predictions on the validation data\n",
        "preds = model.predict(valid_data, verbose=1)\n",
        "preds"
      ],
      "execution_count": 44,
      "outputs": [
        {
          "output_type": "stream",
          "text": [
            "7/7 [==============================] - 2s 161ms/step\n"
          ],
          "name": "stdout"
        },
        {
          "output_type": "execute_result",
          "data": {
            "text/plain": [
              "array([[2.84689502e-03, 3.23857297e-04, 1.36142480e-03, ...,\n",
              "        1.84323057e-04, 1.37532788e-05, 5.05669136e-03],\n",
              "       [1.22092944e-03, 1.45029408e-04, 1.37177005e-03, ...,\n",
              "        3.86184896e-04, 2.06437428e-03, 1.55389498e-04],\n",
              "       [3.44875371e-05, 6.90191344e-04, 7.01238867e-04, ...,\n",
              "        1.05740604e-04, 4.68828162e-04, 1.47441038e-04],\n",
              "       ...,\n",
              "       [1.53956134e-05, 5.85440757e-05, 5.32505655e-05, ...,\n",
              "        2.44278745e-05, 1.30176995e-04, 4.65961260e-04],\n",
              "       [1.14829093e-03, 1.00909104e-03, 2.48895230e-04, ...,\n",
              "        1.83691765e-04, 8.05428717e-05, 3.18563282e-02],\n",
              "       [3.09021329e-04, 3.10551986e-05, 1.59813650e-03, ...,\n",
              "        3.28187435e-03, 4.91412648e-04, 2.24230880e-05]], dtype=float32)"
            ]
          },
          "metadata": {
            "tags": []
          },
          "execution_count": 44
        }
      ]
    },
    {
      "cell_type": "markdown",
      "metadata": {
        "id": "JBT4gNcNonlT"
      },
      "source": [
        "The predictions that we get from the trained model will be the probablities of each of the labels that are true. The 'softmax' activation function transforms the probablities to a number in the interval of 0,1 and the components will add up to 1.\n",
        "\n",
        "Read more about 'Softmax' : https://towardsdatascience.com/softmax-function-simplified-714068bf8156"
      ]
    },
    {
      "cell_type": "code",
      "metadata": {
        "colab": {
          "base_uri": "https://localhost:8080/"
        },
        "id": "87q4SJG_mn6o",
        "outputId": "60bf4632-443c-4ee2-9418-8ec9d9069621"
      },
      "source": [
        "# First prediction\n",
        "index = 42\n",
        "print(preds[index])\n",
        "print(f\"Max value (probability of prediction): {np.max(preds[index])}\")\n",
        "print(f\"Sum: {np.sum(preds[index])}\")\n",
        "print(f\"Max index: {np.argmax(preds[index])}\")\n",
        "print(f\"Predicted label: {unique_breeds[np.argmax(preds[index])]}\")"
      ],
      "execution_count": 46,
      "outputs": [
        {
          "output_type": "stream",
          "text": [
            "[1.42344914e-04 3.05458416e-05 1.42813195e-04 1.19512239e-04\n",
            " 6.31673122e-03 2.68194271e-04 2.58193086e-05 1.18421146e-03\n",
            " 4.94703557e-03 2.03945749e-02 7.42338743e-05 5.56966261e-05\n",
            " 8.55804537e-04 6.42229943e-03 2.75629177e-03 2.65979581e-03\n",
            " 8.08610857e-05 2.67024123e-04 1.33247609e-04 4.90939827e-04\n",
            " 2.22485723e-05 5.07685589e-04 7.96319800e-05 3.86808642e-05\n",
            " 5.94087411e-03 2.27053297e-05 5.12732986e-05 1.68507133e-04\n",
            " 4.79805312e-05 2.14562988e-05 1.31273355e-05 2.23314346e-04\n",
            " 6.58227218e-05 7.46838705e-05 2.21431153e-04 1.00119632e-05\n",
            " 7.58327660e-05 6.88887259e-04 6.17076585e-05 3.84176314e-01\n",
            " 2.38267967e-04 6.33733362e-05 3.91399628e-03 2.10865746e-05\n",
            " 9.80258264e-05 5.43128372e-05 9.00148225e-05 3.86418047e-04\n",
            " 5.56200830e-05 1.91282496e-04 1.47253028e-04 1.29168213e-04\n",
            " 8.38434571e-05 1.27420656e-03 4.42980381e-05 9.07467795e-04\n",
            " 1.25000850e-04 2.47950462e-04 3.16783735e-05 1.83742941e-05\n",
            " 1.12554808e-04 3.38162325e-04 1.03847542e-05 2.65462586e-05\n",
            " 1.10754663e-04 1.61586446e-04 1.00577796e-04 4.58367576e-04\n",
            " 1.27948690e-04 9.52552073e-05 8.29237251e-05 1.44160040e-05\n",
            " 1.34557413e-04 6.41434512e-04 1.79763971e-04 3.46952038e-05\n",
            " 3.90525674e-04 5.29105273e-05 1.14884591e-04 1.92473482e-04\n",
            " 7.76846719e-06 3.12596640e-05 2.45737629e-05 4.91943734e-04\n",
            " 2.85861024e-04 4.47480743e-05 1.20584511e-04 1.25538872e-05\n",
            " 1.75034547e-05 1.37117796e-03 1.76258123e-04 2.70219916e-05\n",
            " 5.88376832e-04 2.63588096e-04 3.87825894e-05 4.83756194e-05\n",
            " 1.31443419e-04 3.57597637e-05 1.23241072e-04 2.38830675e-04\n",
            " 6.92142756e-04 8.49920252e-05 1.07046639e-04 3.84967534e-05\n",
            " 5.04347379e-04 2.47691205e-05 1.72229629e-04 1.45799677e-05\n",
            " 3.09562805e-04 5.79327243e-05 3.97969161e-05 2.15320918e-03\n",
            " 1.14829927e-04 5.37415981e-01 1.98463298e-04 6.78602722e-04\n",
            " 7.47041986e-06 3.71710084e-05 1.72632525e-03 1.59877469e-04]\n",
            "Max value (probability of prediction): 0.5374159812927246\n",
            "Sum: 1.0000001192092896\n",
            "Max index: 113\n",
            "Predicted label: walker_hound\n"
          ],
          "name": "stdout"
        }
      ]
    },
    {
      "cell_type": "markdown",
      "metadata": {
        "id": "-9sE2t_Qoaxm"
      },
      "source": [
        "Having the the above functionality is great but we need it to be scalable, i.e. we should not have to view it one at a time rather we should be able to view it all at once which will make our work easy.\n",
        "We need to write a function that will do this work for us.\n",
        "\n",
        "And it would be even better if we could see the image the prediction is being made on!\n",
        "\n",
        "Note: Prediction probabilities are also known as confidence levels."
      ]
    },
    {
      "cell_type": "code",
      "metadata": {
        "id": "Guuv3RM2t9Ij"
      },
      "source": [
        "# Turn predictions probablities into their respective labels.\n",
        "def get_pred_label(pred_prob):\n",
        "  \"\"\"\n",
        "  Turns an array of prediction probabilities into a label.\n",
        "  \"\"\"\n",
        "  return unique_breeds[np.argmax(pred_prob)]"
      ],
      "execution_count": 53,
      "outputs": []
    },
    {
      "cell_type": "code",
      "metadata": {
        "colab": {
          "base_uri": "https://localhost:8080/",
          "height": 34
        },
        "id": "zlTs6F44uyhR",
        "outputId": "98e64a4a-bd6c-45f7-898a-ef8cf4ed0de5"
      },
      "source": [
        "pred_label = get_pred_label(preds[51])\n",
        "pred_label"
      ],
      "execution_count": 56,
      "outputs": [
        {
          "output_type": "execute_result",
          "data": {
            "application/vnd.google.colaboratory.intrinsic+json": {
              "type": "string"
            },
            "text/plain": [
              "'rhodesian_ridgeback'"
            ]
          },
          "metadata": {
            "tags": []
          },
          "execution_count": 56
        }
      ]
    },
    {
      "cell_type": "markdown",
      "metadata": {
        "id": "zQz-1piTvuG6"
      },
      "source": [
        "Since our validation data is still in a batch dataset, we'll have to unbatch it to make predictions on the validation images and then compare those predictions to the true labels.\n",
        "\n",
        "Lets create a function to unbatch data that we had previously turned into batches."
      ]
    },
    {
      "cell_type": "code",
      "metadata": {
        "id": "TzJLVr0-wLea"
      },
      "source": [
        "# create a function to unbatch data\n",
        "def unbatch_data(data):\n",
        "  \"\"\"\n",
        "  Takes a batched dataset of (image, label) Tensors and reutrns separate arrays\n",
        "  of images and labels.\n",
        "  \"\"\"\n",
        "  images = []\n",
        "  labels = []\n",
        "  # unbatch data using unbatch()\n",
        "  unbatched_data = data.unbatch()\n",
        "  # turn into iterator for loopiping\n",
        "  data_iterator = unbatched_data.as_numpy_iterator()\n",
        "  # loop through unbatched data\n",
        "  for image, label in data_iterator:\n",
        "    images.append(image)\n",
        "    labels.append(label)\n",
        "\n",
        "  return image, labels"
      ],
      "execution_count": 60,
      "outputs": []
    },
    {
      "cell_type": "code",
      "metadata": {
        "colab": {
          "base_uri": "https://localhost:8080/"
        },
        "id": "cPIAzDxSzAJa",
        "outputId": "37b55119-1838-4773-8382-e4086bc314a2"
      },
      "source": [
        "valid_images, valid_labels = unbatch_data(valid_data)\n",
        "valid_images[0], valid_labels[0]"
      ],
      "execution_count": 63,
      "outputs": [
        {
          "output_type": "execute_result",
          "data": {
            "text/plain": [
              "(array([[0.6627451 , 0.62352943, 0.5764706 ],\n",
              "        [0.6666667 , 0.627451  , 0.5803922 ],\n",
              "        [0.6709034 , 0.6316877 , 0.5846289 ],\n",
              "        [0.6745098 , 0.63529414, 0.5882353 ],\n",
              "        [0.6745098 , 0.63529414, 0.5882353 ],\n",
              "        [0.6784314 , 0.6392157 , 0.5921569 ],\n",
              "        [0.68235296, 0.6431373 , 0.59607846],\n",
              "        [0.6901961 , 0.6431373 , 0.59607846],\n",
              "        [0.69411767, 0.64705884, 0.6       ],\n",
              "        [0.69803923, 0.6509804 , 0.6039216 ],\n",
              "        [0.7019608 , 0.654902  , 0.60784316],\n",
              "        [0.7019608 , 0.654902  , 0.60784316],\n",
              "        [0.7058824 , 0.65882355, 0.6117647 ],\n",
              "        [0.70980394, 0.6627451 , 0.6156863 ],\n",
              "        [0.7030112 , 0.6627451 , 0.6156863 ],\n",
              "        [0.7019608 , 0.6627451 , 0.6156863 ],\n",
              "        [0.7019608 , 0.6627451 , 0.6156863 ],\n",
              "        [0.7019608 , 0.6627451 , 0.6156863 ],\n",
              "        [0.70980394, 0.67058825, 0.62352943],\n",
              "        [0.70980394, 0.67058825, 0.62352943],\n",
              "        [0.70980394, 0.67058825, 0.62352943],\n",
              "        [0.70980394, 0.67058825, 0.62352943],\n",
              "        [0.70980394, 0.67058825, 0.62352943],\n",
              "        [0.70980394, 0.67058825, 0.62352943],\n",
              "        [0.70980394, 0.67058825, 0.62352943],\n",
              "        [0.7137255 , 0.6745098 , 0.627451  ],\n",
              "        [0.7137255 , 0.6745098 , 0.627451  ],\n",
              "        [0.7137255 , 0.6745098 , 0.627451  ],\n",
              "        [0.7132703 , 0.6740546 , 0.6269958 ],\n",
              "        [0.70980394, 0.67058825, 0.62352943],\n",
              "        [0.7137255 , 0.6745098 , 0.627451  ],\n",
              "        [0.7173648 , 0.6781491 , 0.6310903 ],\n",
              "        [0.7176471 , 0.6784314 , 0.6313726 ],\n",
              "        [0.7176471 , 0.6784314 , 0.6313726 ],\n",
              "        [0.7176471 , 0.6784314 , 0.6313726 ],\n",
              "        [0.7176471 , 0.6784314 , 0.6313726 ],\n",
              "        [0.72156864, 0.68235296, 0.63529414],\n",
              "        [0.72156864, 0.68235296, 0.63529414],\n",
              "        [0.72156864, 0.68235296, 0.63529414],\n",
              "        [0.72682077, 0.6876051 , 0.64054626],\n",
              "        [0.7294118 , 0.6901961 , 0.6431373 ],\n",
              "        [0.73333335, 0.69411767, 0.64705884],\n",
              "        [0.7372549 , 0.69803923, 0.6509804 ],\n",
              "        [0.7372549 , 0.69803923, 0.6509804 ],\n",
              "        [0.7372549 , 0.69803923, 0.6509804 ],\n",
              "        [0.7372549 , 0.69803923, 0.6509804 ],\n",
              "        [0.7372549 , 0.69803923, 0.6509804 ],\n",
              "        [0.7372549 , 0.69803923, 0.6509804 ],\n",
              "        [0.7372549 , 0.69803923, 0.6509804 ],\n",
              "        [0.7372549 , 0.69803923, 0.6509804 ],\n",
              "        [0.73333335, 0.69411767, 0.64705884],\n",
              "        [0.7351191 , 0.6959034 , 0.6488446 ],\n",
              "        [0.739951  , 0.70073533, 0.6536765 ],\n",
              "        [0.7411765 , 0.7019608 , 0.654902  ],\n",
              "        [0.7372549 , 0.69803923, 0.6509804 ],\n",
              "        [0.7372549 , 0.69803923, 0.6509804 ],\n",
              "        [0.7372549 , 0.69803923, 0.6509804 ],\n",
              "        [0.747234  , 0.7080183 , 0.6609595 ],\n",
              "        [0.7490196 , 0.70980394, 0.6627451 ],\n",
              "        [0.7490196 , 0.70980394, 0.6627451 ],\n",
              "        [0.7490196 , 0.70980394, 0.6627451 ],\n",
              "        [0.7490196 , 0.70980394, 0.6627451 ],\n",
              "        [0.7490196 , 0.70980394, 0.6627451 ],\n",
              "        [0.7490196 , 0.70980394, 0.6627451 ],\n",
              "        [0.7527312 , 0.71351546, 0.66645664],\n",
              "        [0.7568628 , 0.7176471 , 0.67058825],\n",
              "        [0.75152975, 0.712314  , 0.6652552 ],\n",
              "        [0.747514  , 0.7082983 , 0.6612395 ],\n",
              "        [0.75294125, 0.7137255 , 0.6666667 ],\n",
              "        [0.75294125, 0.7137255 , 0.6666667 ],\n",
              "        [0.75294125, 0.7137255 , 0.6666667 ],\n",
              "        [0.75294125, 0.7137255 , 0.6666667 ],\n",
              "        [0.75294125, 0.7137255 , 0.6666667 ],\n",
              "        [0.75294125, 0.7137255 , 0.6666667 ],\n",
              "        [0.75294125, 0.7137255 , 0.6666667 ],\n",
              "        [0.7568628 , 0.7176471 , 0.67058825],\n",
              "        [0.7568628 , 0.7176471 , 0.67058825],\n",
              "        [0.7568628 , 0.7176471 , 0.67058825],\n",
              "        [0.7568628 , 0.7176471 , 0.67058825],\n",
              "        [0.75294125, 0.7137255 , 0.6666667 ],\n",
              "        [0.75294125, 0.7137255 , 0.6666667 ],\n",
              "        [0.75294125, 0.7137255 , 0.6666667 ],\n",
              "        [0.75294125, 0.7137255 , 0.6666667 ],\n",
              "        [0.75294125, 0.7137255 , 0.6666667 ],\n",
              "        [0.75294125, 0.7137255 , 0.6666667 ],\n",
              "        [0.75294125, 0.7137255 , 0.6666667 ],\n",
              "        [0.7545869 , 0.71537113, 0.6683123 ],\n",
              "        [0.7494726 , 0.71025693, 0.6631981 ],\n",
              "        [0.7515029 , 0.7122871 , 0.6652283 ],\n",
              "        [0.75577736, 0.7165616 , 0.6695028 ],\n",
              "        [0.75294125, 0.7137255 , 0.6666667 ],\n",
              "        [0.75294125, 0.7137255 , 0.6666667 ],\n",
              "        [0.75294125, 0.7137255 , 0.6666667 ],\n",
              "        [0.75294125, 0.7137255 , 0.6666667 ],\n",
              "        [0.75294125, 0.7137255 , 0.6666667 ],\n",
              "        [0.75294125, 0.7137255 , 0.6666667 ],\n",
              "        [0.75294125, 0.7137255 , 0.6666667 ],\n",
              "        [0.7490196 , 0.70980394, 0.6627451 ],\n",
              "        [0.7490196 , 0.70980394, 0.6627451 ],\n",
              "        [0.7490196 , 0.70980394, 0.6627451 ],\n",
              "        [0.7490196 , 0.70980394, 0.6627451 ],\n",
              "        [0.7490196 , 0.70980394, 0.6627451 ],\n",
              "        [0.7490196 , 0.70980394, 0.6627451 ],\n",
              "        [0.7490196 , 0.70980394, 0.6627451 ],\n",
              "        [0.7411765 , 0.7019608 , 0.654902  ],\n",
              "        [0.7411765 , 0.7019608 , 0.654902  ],\n",
              "        [0.7411765 , 0.7019608 , 0.654902  ],\n",
              "        [0.744748  , 0.7055323 , 0.6584735 ],\n",
              "        [0.7490196 , 0.70980394, 0.6627451 ],\n",
              "        [0.7490196 , 0.70980394, 0.6627451 ],\n",
              "        [0.7490196 , 0.70980394, 0.6627451 ],\n",
              "        [0.7490196 , 0.70980394, 0.6627451 ],\n",
              "        [0.75143564, 0.7122199 , 0.6651611 ],\n",
              "        [0.7549905 , 0.7157748 , 0.66871595],\n",
              "        [0.7568628 , 0.7176471 , 0.67058825],\n",
              "        [0.7568628 , 0.7176471 , 0.67058825],\n",
              "        [0.7521212 , 0.71290547, 0.66584665],\n",
              "        [0.74785006, 0.7086344 , 0.66157556],\n",
              "        [0.75294125, 0.7137255 , 0.6666667 ],\n",
              "        [0.7557202 , 0.71650445, 0.66944563],\n",
              "        [0.75871867, 0.7195029 , 0.6724441 ],\n",
              "        [0.7607844 , 0.72156864, 0.6745098 ],\n",
              "        [0.7553572 , 0.71614146, 0.66908264],\n",
              "        [0.7553572 , 0.71614146, 0.66908264],\n",
              "        [0.7553572 , 0.71614146, 0.66908264],\n",
              "        [0.7637698 , 0.72455406, 0.67749524],\n",
              "        [0.7686275 , 0.7294118 , 0.68235296],\n",
              "        [0.7686275 , 0.7294118 , 0.68235296],\n",
              "        [0.7686275 , 0.7294118 , 0.68235296],\n",
              "        [0.7725491 , 0.73333335, 0.6862745 ],\n",
              "        [0.7725491 , 0.73333335, 0.6862745 ],\n",
              "        [0.7725491 , 0.73333335, 0.6862745 ],\n",
              "        [0.7725491 , 0.73333335, 0.6862745 ],\n",
              "        [0.7725491 , 0.73333335, 0.6862745 ],\n",
              "        [0.7725491 , 0.73333335, 0.6862745 ],\n",
              "        [0.7725491 , 0.73333335, 0.6862745 ],\n",
              "        [0.7725491 , 0.73333335, 0.6862745 ],\n",
              "        [0.7725491 , 0.73333335, 0.6862745 ],\n",
              "        [0.7725491 , 0.73333335, 0.6862745 ],\n",
              "        [0.7725491 , 0.73333335, 0.6862745 ],\n",
              "        [0.7725491 , 0.73333335, 0.6862745 ],\n",
              "        [0.7725491 , 0.73333335, 0.6862745 ],\n",
              "        [0.7725491 , 0.73333335, 0.6862745 ],\n",
              "        [0.7725491 , 0.73333335, 0.6862745 ],\n",
              "        [0.7725491 , 0.73333335, 0.6862745 ],\n",
              "        [0.7725491 , 0.73333335, 0.6862745 ],\n",
              "        [0.7725491 , 0.73333335, 0.6862745 ],\n",
              "        [0.7725491 , 0.73333335, 0.6862745 ],\n",
              "        [0.7725491 , 0.73333335, 0.6862745 ],\n",
              "        [0.7725491 , 0.73333335, 0.6862745 ],\n",
              "        [0.77083343, 0.7316177 , 0.68455887],\n",
              "        [0.76470596, 0.7254902 , 0.6784314 ],\n",
              "        [0.7611695 , 0.72195375, 0.6748949 ],\n",
              "        [0.7568628 , 0.7176471 , 0.67058825],\n",
              "        [0.7568628 , 0.7176471 , 0.67058825],\n",
              "        [0.7539119 , 0.71469617, 0.66763735],\n",
              "        [0.74968493, 0.71046925, 0.6634104 ],\n",
              "        [0.7486804 , 0.7094647 , 0.6624059 ],\n",
              "        [0.7411765 , 0.7019608 , 0.654902  ],\n",
              "        [0.7383982 , 0.6991825 , 0.6521237 ],\n",
              "        [0.73391575, 0.69470006, 0.64764124],\n",
              "        [0.73333335, 0.69411767, 0.64705884],\n",
              "        [0.73128843, 0.69207275, 0.6450139 ],\n",
              "        [0.726806  , 0.6875903 , 0.6405315 ],\n",
              "        [0.7244551 , 0.68523943, 0.6381806 ],\n",
              "        [0.73333335, 0.69411767, 0.64705884],\n",
              "        [0.72918326, 0.6899676 , 0.64290875],\n",
              "        [0.7254902 , 0.6862745 , 0.6392157 ],\n",
              "        [0.7239846 , 0.6847689 , 0.6377101 ],\n",
              "        [0.7239846 , 0.6847689 , 0.6377101 ],\n",
              "        [0.7239846 , 0.6847689 , 0.6377101 ],\n",
              "        [0.7239846 , 0.6847689 , 0.6377101 ],\n",
              "        [0.7239846 , 0.6847689 , 0.6377101 ],\n",
              "        [0.7239846 , 0.6847689 , 0.6377101 ],\n",
              "        [0.7239846 , 0.6847689 , 0.6377101 ],\n",
              "        [0.7224567 , 0.683241  , 0.6361822 ],\n",
              "        [0.7176471 , 0.6784314 , 0.6313726 ],\n",
              "        [0.7176471 , 0.6784314 , 0.6313726 ],\n",
              "        [0.7176471 , 0.6784314 , 0.6313726 ],\n",
              "        [0.7239846 , 0.6847689 , 0.6377101 ],\n",
              "        [0.7239846 , 0.6847689 , 0.6377101 ],\n",
              "        [0.7239846 , 0.6847689 , 0.6377101 ],\n",
              "        [0.7239846 , 0.6847689 , 0.6377101 ],\n",
              "        [0.7294118 , 0.6901961 , 0.6431373 ],\n",
              "        [0.7294118 , 0.6901961 , 0.6431373 ],\n",
              "        [0.7294118 , 0.6901961 , 0.6431373 ],\n",
              "        [0.7294118 , 0.6901961 , 0.6431373 ],\n",
              "        [0.7294118 , 0.6901961 , 0.6431373 ],\n",
              "        [0.7294118 , 0.6901961 , 0.6431373 ],\n",
              "        [0.7294118 , 0.6901961 , 0.6431373 ],\n",
              "        [0.7294118 , 0.6901961 , 0.6431373 ],\n",
              "        [0.7331584 , 0.6939427 , 0.6468839 ],\n",
              "        [0.7372549 , 0.69803923, 0.6509804 ],\n",
              "        [0.7372549 , 0.69803923, 0.6509804 ],\n",
              "        [0.7372549 , 0.69803923, 0.6509804 ],\n",
              "        [0.7372549 , 0.69803923, 0.6509804 ],\n",
              "        [0.7372549 , 0.69803923, 0.6509804 ],\n",
              "        [0.7411765 , 0.7019608 , 0.654902  ],\n",
              "        [0.7389005 , 0.6996848 , 0.652626  ],\n",
              "        [0.7360316 , 0.6968159 , 0.6497571 ],\n",
              "        [0.7335084 , 0.6942927 , 0.6472339 ],\n",
              "        [0.73683816, 0.6976225 , 0.65056366],\n",
              "        [0.73333335, 0.69411767, 0.64705884],\n",
              "        [0.7294118 , 0.6901961 , 0.6431373 ],\n",
              "        [0.7294118 , 0.6901961 , 0.6431373 ],\n",
              "        [0.7254902 , 0.6862745 , 0.6392157 ],\n",
              "        [0.72156864, 0.68235296, 0.63529414],\n",
              "        [0.7176471 , 0.6784314 , 0.6313726 ],\n",
              "        [0.7176471 , 0.6784314 , 0.6313726 ],\n",
              "        [0.7137255 , 0.6745098 , 0.627451  ],\n",
              "        [0.70980394, 0.67058825, 0.62352943],\n",
              "        [0.70890325, 0.66968757, 0.62262875],\n",
              "        [0.70463216, 0.6654165 , 0.61835766],\n",
              "        [0.69779414, 0.65857846, 0.61151963],\n",
              "        [0.6901961 , 0.6509804 , 0.6039216 ],\n",
              "        [0.69411767, 0.654902  , 0.60784316],\n",
              "        [0.6901961 , 0.6509804 , 0.6039216 ],\n",
              "        [0.6862745 , 0.64705884, 0.6       ],\n",
              "        [0.68147755, 0.64226186, 0.59520304],\n",
              "        [0.67774576, 0.6385301 , 0.59147125],\n",
              "        [0.6745098 , 0.63529414, 0.5882353 ],\n",
              "        [0.67058825, 0.6313726 , 0.58431375],\n",
              "        [0.6730042 , 0.6259454 , 0.57888657],\n",
              "        [0.6730042 , 0.6259454 , 0.57888657]], dtype=float32),\n",
              " array([False, False, False, False, False, False, False, False, False,\n",
              "        False, False, False, False, False, False, False, False, False,\n",
              "        False, False, False, False, False, False, False, False,  True,\n",
              "        False, False, False, False, False, False, False, False, False,\n",
              "        False, False, False, False, False, False, False, False, False,\n",
              "        False, False, False, False, False, False, False, False, False,\n",
              "        False, False, False, False, False, False, False, False, False,\n",
              "        False, False, False, False, False, False, False, False, False,\n",
              "        False, False, False, False, False, False, False, False, False,\n",
              "        False, False, False, False, False, False, False, False, False,\n",
              "        False, False, False, False, False, False, False, False, False,\n",
              "        False, False, False, False, False, False, False, False, False,\n",
              "        False, False, False, False, False, False, False, False, False,\n",
              "        False, False, False]))"
            ]
          },
          "metadata": {
            "tags": []
          },
          "execution_count": 63
        }
      ]
    },
    {
      "cell_type": "markdown",
      "metadata": {
        "id": "xJzSOd5P0Ag4"
      },
      "source": [
        "Now, lets visualize the image and labels. We need to write a function to do so.\n",
        "\n",
        "We'll create a function which:\n",
        "\n",
        "* Takes an array of prediction probabilities, an array of truth labels and an array of images and an integer.\n",
        "* Convert the prediction probabilities to a predicted label.\n",
        "* Plot the predicted label, its predicted probability, the truth label and the target image on a single plot."
      ]
    },
    {
      "cell_type": "code",
      "metadata": {
        "id": "cdSR6M0j2tSG"
      },
      "source": [
        "# write func that can visualize images and labels\n",
        "\n",
        "def plot_preds(pred_prob, labels, images, n=1):\n",
        "  \"\"\"\n",
        "  View the prediction, ground truth and image for sample n\n",
        "  \"\"\"\n",
        "  "
      ],
      "execution_count": null,
      "outputs": []
    }
  ]
}