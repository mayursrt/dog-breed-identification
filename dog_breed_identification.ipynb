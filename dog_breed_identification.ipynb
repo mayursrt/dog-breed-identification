{
  "nbformat": 4,
  "nbformat_minor": 0,
  "metadata": {
    "colab": {
      "name": "dog-breed-identification.ipynb",
      "provenance": [],
      "collapsed_sections": [],
      "mount_file_id": "119e9qVOzpMxisOu3N88wO3G9KyYJWIos",
      "authorship_tag": "ABX9TyPR07qcyYSsS4cD5A2Nqyr3",
      "include_colab_link": true
    },
    "kernelspec": {
      "name": "python3",
      "display_name": "Python 3"
    },
    "language_info": {
      "name": "python"
    },
    "accelerator": "GPU"
  },
  "cells": [
    {
      "cell_type": "markdown",
      "metadata": {
        "id": "view-in-github",
        "colab_type": "text"
      },
      "source": [
        "<a href=\"https://colab.research.google.com/github/mayursrt/dog-breed-identification/blob/main/dog_breed_identification.ipynb\" target=\"_parent\"><img src=\"https://colab.research.google.com/assets/colab-badge.svg\" alt=\"Open In Colab\"/></a>"
      ]
    },
    {
      "cell_type": "markdown",
      "metadata": {
        "id": "b8rX78bLy4KB"
      },
      "source": [
        "# Dog Breed Identification\n",
        "This notebook builds an end-to-end multi-class image classifier using TensorFlow 2.x and TensorFlow Hub.\n",
        "\n",
        "1. Problem\n",
        "Identifying the breed of a dog given an image of a dog.\n",
        "\n",
        "When I'm sitting at the cafe and I take a photo of a dog, I want to know what breed of dog it is.\n",
        "\n",
        "2. Data\n",
        "The data we're using is from Kaggle's dog breed identification competition. You can get the data here:\n",
        "\n",
        "https://www.kaggle.com/c/dog-breed-identification/data\n",
        "\n",
        "3. Evaluation\n",
        "The evaluation is a file with prediction probabilities for each dog breed of each test image.\n",
        "\n",
        "https://www.kaggle.com/c/dog-breed-identification/overview/evaluation\n",
        "\n",
        "4. Features\n",
        "Some information about the data:\n",
        "\n",
        "* We're dealing with images (unstructured data) so it's probably best we use deep learning/transfer learning.\n",
        "* There are 120 breeds of dogs (this means there are 120 different classes).\n",
        "* There are around 10,000+ images in the training set (these images have labels).\n",
        "* There are around 10,000+ images in the test set (these images have no labels, because we'll want to predict them).\n",
        "\n",
        "\n",
        "### Getting the workspace ready\n",
        "First Import all the packages needed for the task:\n",
        "* TensorFlow 2.x\n",
        "* TensorFlow Hub\n",
        "\n",
        "Also check if you're using a GPU.\n"
      ]
    },
    {
      "cell_type": "code",
      "metadata": {
        "id": "sy1JhpE1CYmJ",
        "colab": {
          "base_uri": "https://localhost:8080/"
        },
        "outputId": "cab6ac1a-abe1-4831-b80d-a37aff6211bd"
      },
      "source": [
        "# import packages and check their versions\n",
        "import tensorflow as tf\n",
        "import tensorflow_hub as hub\n",
        "print('TensorFlow version:', tf.__version__)\n",
        "print('TensorFlow Hub version:', hub.__version__)"
      ],
      "execution_count": 1,
      "outputs": [
        {
          "output_type": "stream",
          "text": [
            "TensorFlow version: 2.4.1\n",
            "TensorFlow Hub version: 0.11.0\n"
          ],
          "name": "stdout"
        }
      ]
    },
    {
      "cell_type": "code",
      "metadata": {
        "id": "Cl8Ra5cuC80R",
        "colab": {
          "base_uri": "https://localhost:8080/"
        },
        "outputId": "67d6b32a-090f-443b-81ca-3bcf27809171"
      },
      "source": [
        "# check GPU availability\n",
        "print(\"GPU\", \"available\" if tf.config.list_physical_devices(\"GPU\") else \"not available\")"
      ],
      "execution_count": 2,
      "outputs": [
        {
          "output_type": "stream",
          "text": [
            "GPU available\n"
          ],
          "name": "stdout"
        }
      ]
    },
    {
      "cell_type": "markdown",
      "metadata": {
        "id": "n-9ZZHrGFz7y"
      },
      "source": [
        "**NOTE:** This project will not be able to run if there is no GPU available. If using Google Colab, Goto Runtime > Change Runtime Type > Select GPU."
      ]
    },
    {
      "cell_type": "markdown",
      "metadata": {
        "id": "CAHTj40EEK0E"
      },
      "source": [
        "### Getting our data ready (turning into Tensors)\n",
        "With all machine learning models, our data has to be in numerical format. So that's what we'll be doing first. Turning our images into Tensors (numerical representations).\n",
        "\n",
        "Let's start by accessing our data and checking out the labels."
      ]
    },
    {
      "cell_type": "code",
      "metadata": {
        "id": "cCCmSIEMQgSS",
        "colab": {
          "base_uri": "https://localhost:8080/"
        },
        "outputId": "4ee24b7c-2d11-4efe-9378-09c6904eacdc"
      },
      "source": [
        "# Checkout the labels of the data\n",
        "import pandas as pd\n",
        "labels_csv = pd.read_csv(\"drive/MyDrive/Dog Breed Identification using Tensorflow/data/labels.csv\")\n",
        "print(labels_csv.describe())\n",
        "print(labels_csv.head())"
      ],
      "execution_count": 3,
      "outputs": [
        {
          "output_type": "stream",
          "text": [
            "                                      id               breed\n",
            "count                              10222               10222\n",
            "unique                             10222                 120\n",
            "top     0f378abee01a23bc9e651753300a9a36  scottish_deerhound\n",
            "freq                                   1                 126\n",
            "                                 id             breed\n",
            "0  000bec180eb18c7604dcecc8fe0dba07       boston_bull\n",
            "1  001513dfcb2ffafc82cccf4d8bbaba97             dingo\n",
            "2  001cdf01b096e06d78e9e5112d419397          pekinese\n",
            "3  00214f311d5d2247d5dfe4fe24b2303d          bluetick\n",
            "4  0021f9ceb3235effd7fcde7f7538ed62  golden_retriever\n"
          ],
          "name": "stdout"
        }
      ]
    },
    {
      "cell_type": "code",
      "metadata": {
        "id": "1K5a6tTLRuUh",
        "colab": {
          "base_uri": "https://localhost:8080/"
        },
        "outputId": "e43104aa-9f18-4a19-dfda-f4bc7cd67542"
      },
      "source": [
        "labels_csv['breed'].value_counts()"
      ],
      "execution_count": 4,
      "outputs": [
        {
          "output_type": "execute_result",
          "data": {
            "text/plain": [
              "scottish_deerhound      126\n",
              "maltese_dog             117\n",
              "afghan_hound            116\n",
              "entlebucher             115\n",
              "bernese_mountain_dog    114\n",
              "                       ... \n",
              "brabancon_griffon        67\n",
              "golden_retriever         67\n",
              "komondor                 67\n",
              "eskimo_dog               66\n",
              "briard                   66\n",
              "Name: breed, Length: 120, dtype: int64"
            ]
          },
          "metadata": {
            "tags": []
          },
          "execution_count": 4
        }
      ]
    },
    {
      "cell_type": "code",
      "metadata": {
        "id": "k_UheqH7SOsq",
        "colab": {
          "base_uri": "https://localhost:8080/",
          "height": 703
        },
        "outputId": "32df9fa1-a1bb-47c9-9eeb-290aba2883cf"
      },
      "source": [
        "labels_csv['breed'].value_counts().plot.bar(figsize=(20, 10));"
      ],
      "execution_count": 5,
      "outputs": [
        {
          "output_type": "display_data",
          "data": {
            "image/png": "[encoded data removed]",
            "text/plain": [
              "<Figure size 1440x720 with 1 Axes>"
            ]
          },
          "metadata": {
            "tags": [],
            "needs_background": "light"
          }
        }
      ]
    },
    {
      "cell_type": "code",
      "metadata": {
        "id": "XaG24IkgScxL",
        "colab": {
          "base_uri": "https://localhost:8080/"
        },
        "outputId": "ee74cbc4-210f-40f5-aae7-103f5dbefa3b"
      },
      "source": [
        "# median labels per breed to get distribution of data\n",
        "labels_csv['breed'].value_counts().median()"
      ],
      "execution_count": 6,
      "outputs": [
        {
          "output_type": "execute_result",
          "data": {
            "text/plain": [
              "82.0"
            ]
          },
          "metadata": {
            "tags": []
          },
          "execution_count": 6
        }
      ]
    },
    {
      "cell_type": "code",
      "metadata": {
        "id": "QdGTETfMS7JI",
        "colab": {
          "base_uri": "https://localhost:8080/",
          "height": 517
        },
        "outputId": "fcda0736-ade9-4c3e-8c54-9dfac851144e"
      },
      "source": [
        " # View an Image\n",
        " from IPython.display import Image\n",
        " Image('drive/MyDrive/Dog Breed Identification using Tensorflow/data/train/0021f9ceb3235effd7fcde7f7538ed62.jpg')"
      ],
      "execution_count": 7,
      "outputs": [
        {
          "output_type": "execute_result",
          "data": {
            "image/jpeg": "[encoded data removed]",
            "text/plain": [
              "<IPython.core.display.Image object>"
            ]
          },
          "metadata": {
            "tags": []
          },
          "execution_count": 7
        }
      ]
    },
    {
      "cell_type": "markdown",
      "metadata": {
        "id": "ERNBTE4mzZPN"
      },
      "source": [
        "\n",
        "\n",
        "### Getting images and their labels\n",
        "Get the list of all image file pathnames."
      ]
    },
    {
      "cell_type": "code",
      "metadata": {
        "id": "trFT1f3BUKYE",
        "colab": {
          "base_uri": "https://localhost:8080/"
        },
        "outputId": "c81f6ad4-a965-4d52-d250-7cd4c2c9c928"
      },
      "source": [
        "# create pathnames for image ids\n",
        "filenames = ['drive/MyDrive/Dog Breed Identification using Tensorflow/data/train/' + fname + '.jpg' for fname in labels_csv ['id']]\n",
        "filenames[:10]"
      ],
      "execution_count": 8,
      "outputs": [
        {
          "output_type": "execute_result",
          "data": {
            "text/plain": [
              "['drive/MyDrive/Dog Breed Identification using Tensorflow/data/train/000bec180eb18c7604dcecc8fe0dba07.jpg',\n",
              " 'drive/MyDrive/Dog Breed Identification using Tensorflow/data/train/001513dfcb2ffafc82cccf4d8bbaba97.jpg',\n",
              " 'drive/MyDrive/Dog Breed Identification using Tensorflow/data/train/001cdf01b096e06d78e9e5112d419397.jpg',\n",
              " 'drive/MyDrive/Dog Breed Identification using Tensorflow/data/train/00214f311d5d2247d5dfe4fe24b2303d.jpg',\n",
              " 'drive/MyDrive/Dog Breed Identification using Tensorflow/data/train/0021f9ceb3235effd7fcde7f7538ed62.jpg',\n",
              " 'drive/MyDrive/Dog Breed Identification using Tensorflow/data/train/002211c81b498ef88e1b40b9abf84e1d.jpg',\n",
              " 'drive/MyDrive/Dog Breed Identification using Tensorflow/data/train/00290d3e1fdd27226ba27a8ce248ce85.jpg',\n",
              " 'drive/MyDrive/Dog Breed Identification using Tensorflow/data/train/002a283a315af96eaea0e28e7163b21b.jpg',\n",
              " 'drive/MyDrive/Dog Breed Identification using Tensorflow/data/train/003df8b8a8b05244b1d920bb6cf451f9.jpg',\n",
              " 'drive/MyDrive/Dog Breed Identification using Tensorflow/data/train/0042188c895a2f14ef64a918ed9c7b64.jpg']"
            ]
          },
          "metadata": {
            "tags": []
          },
          "execution_count": 8
        }
      ]
    },
    {
      "cell_type": "code",
      "metadata": {
        "id": "J0PM-Qn90CkE",
        "colab": {
          "base_uri": "https://localhost:8080/"
        },
        "outputId": "4662e357-7120-465d-8a7d-0d9d79ff33d7"
      },
      "source": [
        "# check if the number of filenames match the number of actual image files(this can be caused by incomplete upload of the files)\n",
        "import os\n",
        "if len(os.listdir('drive/MyDrive/Dog Breed Identification using Tensorflow/data/train/')) == len(filenames):\n",
        "  print('Filenames match actual amount of files..!!! you can proceed.')\n",
        "else:\n",
        "  print('Filenames do not match the actual amount of files..!! please try and reupload the data directory')"
      ],
      "execution_count": 9,
      "outputs": [
        {
          "output_type": "stream",
          "text": [
            "Filenames match actual amount of files..!!! you can proceed.\n"
          ],
          "name": "stdout"
        }
      ]
    },
    {
      "cell_type": "markdown",
      "metadata": {
        "id": "90HKodcs2MZa"
      },
      "source": [
        "Preparing the labels"
      ]
    },
    {
      "cell_type": "code",
      "metadata": {
        "id": "_le2jSvr2yTn",
        "colab": {
          "base_uri": "https://localhost:8080/"
        },
        "outputId": "a3d7eb5d-b9e6-4bc5-d3d9-fd9748a383f8"
      },
      "source": [
        "import numpy as np\n",
        "# transforming labels so that they can be used.\n",
        "labels = np.array(labels_csv['breed'])  ## can also use labels = labels_csv['breed'].to_numpy()\n",
        "labels"
      ],
      "execution_count": 10,
      "outputs": [
        {
          "output_type": "execute_result",
          "data": {
            "text/plain": [
              "array(['boston_bull', 'dingo', 'pekinese', ..., 'airedale',\n",
              "       'miniature_pinscher', 'chesapeake_bay_retriever'], dtype=object)"
            ]
          },
          "metadata": {
            "tags": []
          },
          "execution_count": 10
        }
      ]
    },
    {
      "cell_type": "code",
      "metadata": {
        "id": "g1o5MTy334qx",
        "colab": {
          "base_uri": "https://localhost:8080/"
        },
        "outputId": "c53f481c-e895-4ddc-c6d7-f055f66bdbc7"
      },
      "source": [
        "#check length of labels\n",
        "len(labels)"
      ],
      "execution_count": 11,
      "outputs": [
        {
          "output_type": "execute_result",
          "data": {
            "text/plain": [
              "10222"
            ]
          },
          "metadata": {
            "tags": []
          },
          "execution_count": 11
        }
      ]
    },
    {
      "cell_type": "code",
      "metadata": {
        "id": "hHBOLf744GUB",
        "colab": {
          "base_uri": "https://localhost:8080/"
        },
        "outputId": "2b353246-88b1-4354-80b8-4d5d48ea7f19"
      },
      "source": [
        "# see if the number of labels match the length of filenames\n",
        "if len(labels) == len(filenames):\n",
        "  print('Filenames match actual amount of files..!!! you can proceed.')\n",
        "else:\n",
        "  print('Filenames do not match the actual amount of files..!! please try and reupload the data directory')"
      ],
      "execution_count": 12,
      "outputs": [
        {
          "output_type": "stream",
          "text": [
            "Filenames match actual amount of files..!!! you can proceed.\n"
          ],
          "name": "stdout"
        }
      ]
    },
    {
      "cell_type": "code",
      "metadata": {
        "id": "ViQrIuT_4w1L",
        "colab": {
          "base_uri": "https://localhost:8080/"
        },
        "outputId": "3efbfcd9-cd6f-4739-d542-ec7d94f45bf3"
      },
      "source": [
        "#find unique label values\n",
        "unique_breeds = np.unique(labels)\n",
        "unique_breeds"
      ],
      "execution_count": 13,
      "outputs": [
        {
          "output_type": "execute_result",
          "data": {
            "text/plain": [
              "array(['affenpinscher', 'afghan_hound', 'african_hunting_dog', 'airedale',\n",
              "       'american_staffordshire_terrier', 'appenzeller',\n",
              "       'australian_terrier', 'basenji', 'basset', 'beagle',\n",
              "       'bedlington_terrier', 'bernese_mountain_dog',\n",
              "       'black-and-tan_coonhound', 'blenheim_spaniel', 'bloodhound',\n",
              "       'bluetick', 'border_collie', 'border_terrier', 'borzoi',\n",
              "       'boston_bull', 'bouvier_des_flandres', 'boxer',\n",
              "       'brabancon_griffon', 'briard', 'brittany_spaniel', 'bull_mastiff',\n",
              "       'cairn', 'cardigan', 'chesapeake_bay_retriever', 'chihuahua',\n",
              "       'chow', 'clumber', 'cocker_spaniel', 'collie',\n",
              "       'curly-coated_retriever', 'dandie_dinmont', 'dhole', 'dingo',\n",
              "       'doberman', 'english_foxhound', 'english_setter',\n",
              "       'english_springer', 'entlebucher', 'eskimo_dog',\n",
              "       'flat-coated_retriever', 'french_bulldog', 'german_shepherd',\n",
              "       'german_short-haired_pointer', 'giant_schnauzer',\n",
              "       'golden_retriever', 'gordon_setter', 'great_dane',\n",
              "       'great_pyrenees', 'greater_swiss_mountain_dog', 'groenendael',\n",
              "       'ibizan_hound', 'irish_setter', 'irish_terrier',\n",
              "       'irish_water_spaniel', 'irish_wolfhound', 'italian_greyhound',\n",
              "       'japanese_spaniel', 'keeshond', 'kelpie', 'kerry_blue_terrier',\n",
              "       'komondor', 'kuvasz', 'labrador_retriever', 'lakeland_terrier',\n",
              "       'leonberg', 'lhasa', 'malamute', 'malinois', 'maltese_dog',\n",
              "       'mexican_hairless', 'miniature_pinscher', 'miniature_poodle',\n",
              "       'miniature_schnauzer', 'newfoundland', 'norfolk_terrier',\n",
              "       'norwegian_elkhound', 'norwich_terrier', 'old_english_sheepdog',\n",
              "       'otterhound', 'papillon', 'pekinese', 'pembroke', 'pomeranian',\n",
              "       'pug', 'redbone', 'rhodesian_ridgeback', 'rottweiler',\n",
              "       'saint_bernard', 'saluki', 'samoyed', 'schipperke',\n",
              "       'scotch_terrier', 'scottish_deerhound', 'sealyham_terrier',\n",
              "       'shetland_sheepdog', 'shih-tzu', 'siberian_husky', 'silky_terrier',\n",
              "       'soft-coated_wheaten_terrier', 'staffordshire_bullterrier',\n",
              "       'standard_poodle', 'standard_schnauzer', 'sussex_spaniel',\n",
              "       'tibetan_mastiff', 'tibetan_terrier', 'toy_poodle', 'toy_terrier',\n",
              "       'vizsla', 'walker_hound', 'weimaraner', 'welsh_springer_spaniel',\n",
              "       'west_highland_white_terrier', 'whippet',\n",
              "       'wire-haired_fox_terrier', 'yorkshire_terrier'], dtype=object)"
            ]
          },
          "metadata": {
            "tags": []
          },
          "execution_count": 13
        }
      ]
    },
    {
      "cell_type": "code",
      "metadata": {
        "id": "xG67j0HN6t0C",
        "colab": {
          "base_uri": "https://localhost:8080/"
        },
        "outputId": "876e9b5a-af51-494d-de81-95c6a0eec4cc"
      },
      "source": [
        "#len of unique breeds\n",
        "len(unique_breeds)"
      ],
      "execution_count": 14,
      "outputs": [
        {
          "output_type": "execute_result",
          "data": {
            "text/plain": [
              "120"
            ]
          },
          "metadata": {
            "tags": []
          },
          "execution_count": 14
        }
      ]
    },
    {
      "cell_type": "code",
      "metadata": {
        "id": "nsujnD_U5F_S",
        "colab": {
          "base_uri": "https://localhost:8080/"
        },
        "outputId": "4bad867c-17d6-44ec-cc13-35c1a1050bdd"
      },
      "source": [
        "#turning a label into a boolean array\n",
        "print(labels[0])\n",
        "labels[0] == unique_breeds"
      ],
      "execution_count": 15,
      "outputs": [
        {
          "output_type": "stream",
          "text": [
            "boston_bull\n"
          ],
          "name": "stdout"
        },
        {
          "output_type": "execute_result",
          "data": {
            "text/plain": [
              "array([False, False, False, False, False, False, False, False, False,\n",
              "       False, False, False, False, False, False, False, False, False,\n",
              "       False,  True, False, False, False, False, False, False, False,\n",
              "       False, False, False, False, False, False, False, False, False,\n",
              "       False, False, False, False, False, False, False, False, False,\n",
              "       False, False, False, False, False, False, False, False, False,\n",
              "       False, False, False, False, False, False, False, False, False,\n",
              "       False, False, False, False, False, False, False, False, False,\n",
              "       False, False, False, False, False, False, False, False, False,\n",
              "       False, False, False, False, False, False, False, False, False,\n",
              "       False, False, False, False, False, False, False, False, False,\n",
              "       False, False, False, False, False, False, False, False, False,\n",
              "       False, False, False, False, False, False, False, False, False,\n",
              "       False, False, False])"
            ]
          },
          "metadata": {
            "tags": []
          },
          "execution_count": 15
        }
      ]
    },
    {
      "cell_type": "code",
      "metadata": {
        "id": "o79R0RdV5yKl",
        "colab": {
          "base_uri": "https://localhost:8080/"
        },
        "outputId": "8202e08f-ca41-4284-c57f-734ee72d4a4f"
      },
      "source": [
        "# likewise turning all labels in boolean array\n",
        "labels_bool = [labels == unique_breeds for labels in labels]\n",
        "labels_bool[:2]"
      ],
      "execution_count": 16,
      "outputs": [
        {
          "output_type": "execute_result",
          "data": {
            "text/plain": [
              "[array([False, False, False, False, False, False, False, False, False,\n",
              "        False, False, False, False, False, False, False, False, False,\n",
              "        False,  True, False, False, False, False, False, False, False,\n",
              "        False, False, False, False, False, False, False, False, False,\n",
              "        False, False, False, False, False, False, False, False, False,\n",
              "        False, False, False, False, False, False, False, False, False,\n",
              "        False, False, False, False, False, False, False, False, False,\n",
              "        False, False, False, False, False, False, False, False, False,\n",
              "        False, False, False, False, False, False, False, False, False,\n",
              "        False, False, False, False, False, False, False, False, False,\n",
              "        False, False, False, False, False, False, False, False, False,\n",
              "        False, False, False, False, False, False, False, False, False,\n",
              "        False, False, False, False, False, False, False, False, False,\n",
              "        False, False, False]),\n",
              " array([False, False, False, False, False, False, False, False, False,\n",
              "        False, False, False, False, False, False, False, False, False,\n",
              "        False, False, False, False, False, False, False, False, False,\n",
              "        False, False, False, False, False, False, False, False, False,\n",
              "        False,  True, False, False, False, False, False, False, False,\n",
              "        False, False, False, False, False, False, False, False, False,\n",
              "        False, False, False, False, False, False, False, False, False,\n",
              "        False, False, False, False, False, False, False, False, False,\n",
              "        False, False, False, False, False, False, False, False, False,\n",
              "        False, False, False, False, False, False, False, False, False,\n",
              "        False, False, False, False, False, False, False, False, False,\n",
              "        False, False, False, False, False, False, False, False, False,\n",
              "        False, False, False, False, False, False, False, False, False,\n",
              "        False, False, False])]"
            ]
          },
          "metadata": {
            "tags": []
          },
          "execution_count": 16
        }
      ]
    },
    {
      "cell_type": "code",
      "metadata": {
        "id": "mZMZvWTZ7jvW",
        "colab": {
          "base_uri": "https://localhost:8080/"
        },
        "outputId": "69f388a5-0576-49c3-bd8f-dfb547f1f53a"
      },
      "source": [
        "# turning boolean array into integers #maybe not needed\n",
        "\n",
        "print(labels[0])\n",
        "print(np.where(unique_breeds == labels[0]))\n",
        "print(labels_bool[0].argmax())\n",
        "print(labels_bool[0].astype(int))"
      ],
      "execution_count": 17,
      "outputs": [
        {
          "output_type": "stream",
          "text": [
            "boston_bull\n",
            "(array([19]),)\n",
            "19\n",
            "[0 0 0 0 0 0 0 0 0 0 0 0 0 0 0 0 0 0 0 1 0 0 0 0 0 0 0 0 0 0 0 0 0 0 0 0 0\n",
            " 0 0 0 0 0 0 0 0 0 0 0 0 0 0 0 0 0 0 0 0 0 0 0 0 0 0 0 0 0 0 0 0 0 0 0 0 0\n",
            " 0 0 0 0 0 0 0 0 0 0 0 0 0 0 0 0 0 0 0 0 0 0 0 0 0 0 0 0 0 0 0 0 0 0 0 0 0\n",
            " 0 0 0 0 0 0 0 0 0]\n"
          ],
          "name": "stdout"
        }
      ]
    },
    {
      "cell_type": "markdown",
      "metadata": {
        "id": "G9Xnsz4npsYB"
      },
      "source": [
        "### Creating validation set \n",
        "since we do not have validation set in our dataset, we need to create one so that we can run validation tests on the validation set.\n",
        "\n",
        "we can use `train_test_split` for this job"
      ]
    },
    {
      "cell_type": "code",
      "metadata": {
        "id": "98jUNJ3rtBlc"
      },
      "source": [
        "# split into X and y\n",
        "\n",
        "X = filenames\n",
        "y = labels_bool"
      ],
      "execution_count": 18,
      "outputs": []
    },
    {
      "cell_type": "markdown",
      "metadata": {
        "id": "ZF2Z-7_Vt6zx"
      },
      "source": [
        "Starting off with ~1000 images since we need to reduce time taken for running the model"
      ]
    },
    {
      "cell_type": "code",
      "metadata": {
        "id": "Z5sfeD_Ou5a6"
      },
      "source": [
        "# set number of images used for experimenting\n",
        "# if using jupyter notebook, set images number direct to a value\n",
        "#NUM_IMAGES = 1000\n",
        "# OR\n",
        "# we can also use slider to set the number of images and increase them on the go if you are using Google Colab.\n",
        "NUM_IMAGES = 1000 #@param {type:\"slider\", min:1000, max:10222, step:500}"
      ],
      "execution_count": 19,
      "outputs": []
    },
    {
      "cell_type": "code",
      "metadata": {
        "id": "9bmvdvdkwTIJ",
        "colab": {
          "base_uri": "https://localhost:8080/"
        },
        "outputId": "c81cfbc5-4809-4cb4-e8ed-0b001e9294b5"
      },
      "source": [
        "# spliting data into train and validation set\n",
        "\n",
        "from sklearn.model_selection import train_test_split\n",
        "\n",
        "# Split them into training and validation of total size NUM_IMAGES\n",
        "np.random.seed(42)\n",
        "X_train, X_val, y_train, y_val = train_test_split(X[:NUM_IMAGES], y[:NUM_IMAGES], test_size=0.2)\n",
        "len(X_train), len(y_train), len(X_val), len(y_val)"
      ],
      "execution_count": 20,
      "outputs": [
        {
          "output_type": "execute_result",
          "data": {
            "text/plain": [
              "(800, 800, 200, 200)"
            ]
          },
          "metadata": {
            "tags": []
          },
          "execution_count": 20
        }
      ]
    },
    {
      "cell_type": "markdown",
      "metadata": {
        "id": "tsst7GzE08ie"
      },
      "source": [
        "### Preprocessing Images(turning Images into Tensors)\n",
        "Since we might need to reuse the functionality of preprocessing the data, we need to create a function so that it is easy to reuse it.\n",
        "\n",
        "\n",
        "To preprocess our images into Tensors we're going to write a function which does a few things:\n",
        "\n",
        "1. Take an image filepath as input\n",
        "1. Use TensorFlow to read the file and save it to a variable, `image`\n",
        "1. Turn our `image` (a jpg) into Tensors\n",
        "1. Normalize our image (convert color channel values from from 0-255 to 0-1).\n",
        "1. Resize the `image` to be a shape of (224, 224)\n",
        "1. Return the modified `image`"
      ]
    },
    {
      "cell_type": "code",
      "metadata": {
        "id": "cY48B7N63mXN",
        "colab": {
          "base_uri": "https://localhost:8080/"
        },
        "outputId": "e37bffb1-b9a8-449b-8562-5922ddfdbf7b"
      },
      "source": [
        "# lets look how image looks in a numpy array vs in a tensor\n",
        "from matplotlib.pyplot import imread\n",
        "image = imread(filenames[45])\n",
        "# image in form of a numpy array\n",
        "image[:2]"
      ],
      "execution_count": 21,
      "outputs": [
        {
          "output_type": "execute_result",
          "data": {
            "text/plain": [
              "array([[[85, 66, 60],\n",
              "        [86, 67, 61],\n",
              "        [84, 65, 59],\n",
              "        ...,\n",
              "        [41, 26, 23],\n",
              "        [48, 33, 30],\n",
              "        [51, 36, 33]],\n",
              "\n",
              "       [[85, 66, 60],\n",
              "        [89, 70, 64],\n",
              "        [88, 69, 63],\n",
              "        ...,\n",
              "        [51, 36, 33],\n",
              "        [58, 43, 40],\n",
              "        [61, 46, 43]]], dtype=uint8)"
            ]
          },
          "metadata": {
            "tags": []
          },
          "execution_count": 21
        }
      ]
    },
    {
      "cell_type": "code",
      "metadata": {
        "id": "SH8SB4is4CL4",
        "colab": {
          "base_uri": "https://localhost:8080/"
        },
        "outputId": "1592a1f6-bce4-4180-f166-ec025c5a3a33"
      },
      "source": [
        "#image in form of a tensor\n",
        "tf.constant(image)[:2]"
      ],
      "execution_count": 22,
      "outputs": [
        {
          "output_type": "execute_result",
          "data": {
            "text/plain": [
              "<tf.Tensor: shape=(2, 500, 3), dtype=uint8, numpy=\n",
              "array([[[85, 66, 60],\n",
              "        [86, 67, 61],\n",
              "        [84, 65, 59],\n",
              "        ...,\n",
              "        [41, 26, 23],\n",
              "        [48, 33, 30],\n",
              "        [51, 36, 33]],\n",
              "\n",
              "       [[85, 66, 60],\n",
              "        [89, 70, 64],\n",
              "        [88, 69, 63],\n",
              "        ...,\n",
              "        [51, 36, 33],\n",
              "        [58, 43, 40],\n",
              "        [61, 46, 43]]], dtype=uint8)>"
            ]
          },
          "metadata": {
            "tags": []
          },
          "execution_count": 22
        }
      ]
    },
    {
      "cell_type": "code",
      "metadata": {
        "id": "zFOj7pj51mvi"
      },
      "source": [
        "# creating the function\n",
        "\n",
        "# Define image size\n",
        "IMG_SIZE = 224\n",
        "\n",
        "# write function\n",
        "def process_image(image_path, img_size=IMG_SIZE):\n",
        "  \"\"\"\n",
        "  Takes an image file path and turns the image into a Tensor.\n",
        "  \"\"\"\n",
        "  # Read in an image file\n",
        "  image = tf.io.read_file(image_path)\n",
        "  # turn jpg image to numerical tensor with 3 color channels RGB\n",
        "  image = tf.image.decode_jpeg(image, channels=3)\n",
        "  # convert colour channel values from 0-255 to 0-1 values\n",
        "  image = tf.image.convert_image_dtype(image, tf.float32)\n",
        "  # resize image\n",
        "  image =  tf.image.resize(image, size=[IMG_SIZE, IMG_SIZE])\n",
        "  # return image\n",
        "\n",
        "  return image"
      ],
      "execution_count": 23,
      "outputs": []
    },
    {
      "cell_type": "markdown",
      "metadata": {
        "id": "xI0ychxc65xC"
      },
      "source": [
        "### Turning data into batches \n",
        "\n",
        "Why turn our data into batches?\n",
        "\n",
        "Let's say you're trying to process 10,000+ images in one go... they all might not fit into memory.\n",
        "\n",
        "So that's why we do about 32 (this is the batch size) images at a time (you can manually adjust the batch size if need be).\n",
        "\n",
        "In order to use TensorFlow effectively, we need our data in the form of Tensor tuples which look like this: `(image, label)`."
      ]
    },
    {
      "cell_type": "code",
      "metadata": {
        "id": "1LFYFasyWsKQ"
      },
      "source": [
        "# Create func to return a tuple (image, label)\n",
        "\n",
        "def get_image_label(image_path, label):\n",
        "  \"\"\"\n",
        "  Takes an image file path name and the assosciated label,\n",
        "  processes the image and reutrns a typle of (image, label).\n",
        "  \"\"\"\n",
        "  image = process_image(image_path)\n",
        "  return image, label"
      ],
      "execution_count": 24,
      "outputs": []
    },
    {
      "cell_type": "code",
      "metadata": {
        "id": "8YELZipjXmeW"
      },
      "source": [
        "# Create function to turn all the data into batches.\n",
        "\n",
        "# Define batch size\n",
        "BATCH_SIZE = 32\n",
        "\n",
        "def create_data_batches(X, y=None, batch_size=BATCH_SIZE, valid_data=False, test_data=False):\n",
        "  \"\"\"\n",
        "  Creates batches of data out of image (X) and label (y) pairs.\n",
        "  Shuffles the data if it's training data but doesn't shuffle if it's validation data.\n",
        "  Also accepts test data as input (no labels).\n",
        "  \"\"\"\n",
        "  # if the data is a test dataset, we will not have labels\n",
        "  if test_data:\n",
        "    print('Creating test data batches...')\n",
        "    data = tf.data.Dataset.from_tensor_slices((tf.constant(X)))\n",
        "    data_batch = data.map(process_image).batch(BATCH_SIZE)\n",
        "    return data_batch\n",
        "\n",
        "  # if the data is validation data, we don't need to shuffle it\n",
        "  elif valid_data:\n",
        "    print('Creating valid data batches...')\n",
        "    data = tf.data.Dataset.from_tensor_slices((tf.constant(X), tf.constant(y)))\n",
        "    data_batch = data.map(get_image_label).batch(BATCH_SIZE)\n",
        "    return data_batch\n",
        "\n",
        "  # else training data \n",
        "  else:\n",
        "    print('Creating train data batches...')\n",
        "    data = tf.data.Dataset.from_tensor_slices((tf.constant(X), tf.constant(y)))\n",
        "    # Shuffling pathnames and labels before mapping image processor function is faster than shuffling images\n",
        "    data = data.shuffle(buffer_size=len(X))\n",
        "\n",
        "    # Create (image, label) tuples (this also turns the iamge path into a preprocessed image)\n",
        "    data = data.map(get_image_label)\n",
        "\n",
        "    # Turn the training data into batches\n",
        "    data_batch = data.batch(BATCH_SIZE)\n",
        "  return data_batch"
      ],
      "execution_count": 25,
      "outputs": []
    },
    {
      "cell_type": "code",
      "metadata": {
        "id": "Px9LUcc6Y3ZX",
        "colab": {
          "base_uri": "https://localhost:8080/"
        },
        "outputId": "3013ce35-e2e2-432e-c49b-cf7dcdf1415d"
      },
      "source": [
        "# create training and validation data batches\n",
        "\n",
        "train_data = create_data_batches(X_train, y_train)\n",
        "valid_data = create_data_batches(X_val, y_val, valid_data=True)"
      ],
      "execution_count": 26,
      "outputs": [
        {
          "output_type": "stream",
          "text": [
            "Creating train data batches...\n",
            "Creating valid data batches...\n"
          ],
          "name": "stdout"
        }
      ]
    },
    {
      "cell_type": "markdown",
      "metadata": {
        "id": "tLwQ-GAvgZIn"
      },
      "source": [
        "### Visualizing Data Batches\n",
        "\n",
        "The data is batches, now we can visualize these batches so to understand it better.\n",
        "\n"
      ]
    },
    {
      "cell_type": "code",
      "metadata": {
        "id": "K4B7WCz9F6U0"
      },
      "source": [
        "import matplotlib.pyplot as plt\n",
        "\n",
        "# create func for viewing images in a data batch.\n",
        "def show_25_images(images, labels):\n",
        "  \"\"\"\n",
        "  Displays a plot of 25 images and their labels from a data batch.\n",
        "  \"\"\"\n",
        "  # Setup the figure\n",
        "  plt.figure(figsize=(10,10))\n",
        "  # Loop through 25 (for displaying 25 images)\n",
        "  for i in range(25):\n",
        "    # create subplots (5 rows, 5 columns)\n",
        "    ax = plt.subplot(5, 5, i+1)\n",
        "    # show image\n",
        "    plt.imshow(images[i])\n",
        "    # add title as image label\n",
        "    plt.title(unique_breeds[labels[i].argmax()])\n",
        "    # gridlines off\n",
        "    plt.axis('off')"
      ],
      "execution_count": 27,
      "outputs": []
    },
    {
      "cell_type": "markdown",
      "metadata": {
        "id": "ox-Hofy_Nbdu"
      },
      "source": [
        "Since the train data is in the form of batches, we need to revert it back to numpy arrays to visualize it. We do it by using `next()` function which Return the next item from the iterator. That paired with `as_numpy_iterator()` which turns a dataset to numpy array, will give the desired results."
      ]
    },
    {
      "cell_type": "code",
      "metadata": {
        "id": "HF7DKZn7Kj2t"
      },
      "source": [
        "# turn data batch to numpy array.\n",
        "## train_images, train_labels = next(train_data.as_numpy_iterator())\n",
        "# Visualize training data.\n",
        "## show_25_images(train_images, train_labels)"
      ],
      "execution_count": 28,
      "outputs": []
    },
    {
      "cell_type": "code",
      "metadata": {
        "id": "AAFYK1GfNE5-"
      },
      "source": [
        "# turn data batch to numpy array.\n",
        "## valid_images, valid_labels = next(valid_data.as_numpy_iterator())\n",
        "# Visualize validation data.\n",
        "## show_25_images(valid_images, valid_labels)"
      ],
      "execution_count": 29,
      "outputs": []
    },
    {
      "cell_type": "markdown",
      "metadata": {
        "id": "lS-xEhUYPnoS"
      },
      "source": [
        "### Building a model\n",
        "\n",
        "Before we build a model, there are a few things we need to define:\n",
        "\n",
        "* The input shape (our images shape, in the form of Tensors) to our model.\n",
        "* The output shape (image labels, in the form of Tensors) of our model.\n",
        "* The URL of the model we want to use from TensorFlow Hub - https://tfhub.dev/google/imagenet/mobilenet_v2_130_224/classification/4"
      ]
    },
    {
      "cell_type": "code",
      "metadata": {
        "id": "v73-GG2046o8"
      },
      "source": [
        "# Setup input shape of the model\n",
        "INPUT_SHAPE = [None, IMG_SIZE, IMG_SIZE, 3] #model will get input in the form of [batch, height, width, colour channels]\n",
        "# Setup output shape of the model\n",
        "OUTPUT_SHAPE = len(unique_breeds) # model will output boolean array of the label\n",
        "# Model url from TensorFlow Hub\n",
        "MODEL_URL = 'https://tfhub.dev/google/imagenet/mobilenet_v2_130_224/classification/4'"
      ],
      "execution_count": 30,
      "outputs": []
    },
    {
      "cell_type": "markdown",
      "metadata": {
        "id": "WjG9V17v9r9Y"
      },
      "source": [
        "We have inputs, outputs and model ready. We need to put them together into Keras deep learning model.\n",
        "\n",
        "Let's create a function which:\n",
        "\n",
        "* Takes the input shape, output shape and the model we've chosen as parameters.\n",
        "* Defines the layers in a Keras model in sequential fashion (each layer at a time).\n",
        "* Compiles the model (says it should be evaluated and improved).\n",
        "* Builds the model (tells the model the input shape it'll be getting).\n",
        "* Returns the model.\n",
        "\n",
        "All of these steps can be found here: https://www.tensorflow.org/guide/keras/overview"
      ]
    },
    {
      "cell_type": "code",
      "metadata": {
        "id": "XiSdvyFr-YG0"
      },
      "source": [
        "# Create a function which builds a Keras model\n",
        "def create_model(input_shape=INPUT_SHAPE, output_shape=OUTPUT_SHAPE, model_url=MODEL_URL):\n",
        "  print('Building model...')\n",
        "  print('Model url : ', MODEL_URL)\n",
        "\n",
        "  # Setup model layers\n",
        "  model = tf.keras.Sequential([\n",
        "                               hub.KerasLayer(MODEL_URL), # LAYER 1 (Input layer)\n",
        "                               tf.keras.layers.Dense(units=OUTPUT_SHAPE, activation='softmax') # LAYER 2 (Output Layer)\n",
        "                               ])\n",
        "  # Compile the model\n",
        "  model.compile(loss=tf.keras.losses.CategoricalCrossentropy(),\n",
        "                optimizer=tf.keras.optimizers.Adam(),\n",
        "                metrics=['accuracy'])\n",
        "  \n",
        "  # Build the model\n",
        "  model.build(INPUT_SHAPE)\n",
        "  \n",
        "  # Return the model\n",
        "  return model"
      ],
      "execution_count": 31,
      "outputs": []
    },
    {
      "cell_type": "code",
      "metadata": {
        "colab": {
          "base_uri": "https://localhost:8080/"
        },
        "id": "L_cKt0bbAisL",
        "outputId": "318fcf01-6c35-4241-f667-5a36fea98b16"
      },
      "source": [
        "model = create_model()\n",
        "model.summary()"
      ],
      "execution_count": 32,
      "outputs": [
        {
          "output_type": "stream",
          "text": [
            "Building model...\n",
            "Model url :  https://tfhub.dev/google/imagenet/mobilenet_v2_130_224/classification/4\n",
            "Model: \"sequential\"\n",
            "_________________________________________________________________\n",
            "Layer (type)                 Output Shape              Param #   \n",
            "=================================================================\n",
            "keras_layer (KerasLayer)     (None, 1001)              5432713   \n",
            "_________________________________________________________________\n",
            "dense (Dense)                (None, 120)               120240    \n",
            "=================================================================\n",
            "Total params: 5,552,953\n",
            "Trainable params: 120,240\n",
            "Non-trainable params: 5,432,713\n",
            "_________________________________________________________________\n"
          ],
          "name": "stdout"
        }
      ]
    },
    {
      "cell_type": "markdown",
      "metadata": {
        "id": "_qbr5B1oDQ-W"
      },
      "source": [
        "### Creating Callbacks\n",
        "\n",
        "Callbacks are helper functions a model can use during training to do such things as save its progress, check its progress or stop training early if a model stops improving.\n",
        "\n",
        "We'll create two callbacks, one for TensorBoard which helps track our models progress and another for early stopping which prevents our model from training for too long.\n",
        "\n"
      ]
    },
    {
      "cell_type": "markdown",
      "metadata": {
        "id": "nQ6Qc20sV3sb"
      },
      "source": [
        "#### TensorBoard Callback\n",
        "To setup a TensorBoard callback, we need to do 3 things:\n",
        "\n",
        "1. Load the TensorBoard notebook extension.\n",
        "1. Create a TensorBoard callback which is able to save logs to a directory and pass it to our model's fit() function.\n",
        "1. Visualize our models training logs with the %tensorboard magic function (after model training).\n",
        "\n",
        "Find more about TensorBoard Callback : https://www.tensorflow.org/api_docs/python/tf/keras/callbacks/TensorBoard"
      ]
    },
    {
      "cell_type": "code",
      "metadata": {
        "id": "ljx9LyE1ES1r"
      },
      "source": [
        "# Load TensorBoard notebook extension\n",
        "%load_ext tensorboard\n",
        "\n",
        "import datetime\n",
        "\n",
        "# create function to build tensorboard callback\n",
        "def create_tensorboard_callback():\n",
        "  # create log directory for noting down tensorboard logs\n",
        "  logdir = os.path.join('drive/MyDrive/Dog Breed Identification using Tensorflow/logs', datetime.datetime.now().strftime('%d%m%y-%H%M%S'))\n",
        "  return tf.keras.callbacks.TensorBoard(logdir)"
      ],
      "execution_count": 33,
      "outputs": []
    },
    {
      "cell_type": "markdown",
      "metadata": {
        "id": "Bj6yxf2zJZW2"
      },
      "source": [
        "#### Early Stopping Callback\n",
        "Early stopping helps stop our model from overfitting by stopping training if a certain evaluation metric stops improving.\n",
        "\n",
        "Find more about Early Stopping Callback : https://www.tensorflow.org/api_docs/python/tf/keras/callbacks/EarlyStopping"
      ]
    },
    {
      "cell_type": "code",
      "metadata": {
        "id": "Qlj8Ib0xKLVc"
      },
      "source": [
        "# create early stopping callback\n",
        "early_stopping = tf.keras.callbacks.EarlyStopping(monitor='val_accuracy', patience=3)"
      ],
      "execution_count": 34,
      "outputs": []
    },
    {
      "cell_type": "markdown",
      "metadata": {
        "id": "NDPw4Dw6NSg4"
      },
      "source": [
        "### Training a model\n",
        "\n",
        "Training a model will be done only on subset of data of ~1000 images, for making sure everything is working fine.\n",
        "\n"
      ]
    },
    {
      "cell_type": "code",
      "metadata": {
        "id": "9NfXqUI1P9Y4"
      },
      "source": [
        "# NUM_EPOCHS is the number of the passes the model will take.\n",
        "NUM_EPOCHS = 100 #@param {type:\"slider\", min:10, max:100, step:10}"
      ],
      "execution_count": 35,
      "outputs": []
    },
    {
      "cell_type": "code",
      "metadata": {
        "colab": {
          "base_uri": "https://localhost:8080/"
        },
        "id": "LyDyGcagVWbJ",
        "outputId": "e26bb9b7-e963-4b56-d96c-938d4f0d6270"
      },
      "source": [
        "# check GPU availability\n",
        "print(\"GPU\", \"available\" if tf.config.list_physical_devices(\"GPU\") else \"not available\")"
      ],
      "execution_count": 36,
      "outputs": [
        {
          "output_type": "stream",
          "text": [
            "GPU available\n"
          ],
          "name": "stdout"
        }
      ]
    },
    {
      "cell_type": "markdown",
      "metadata": {
        "id": "3dH1WJsyV8Xd"
      },
      "source": [
        "Let's create a function with following functionality, which in the end trains the model,\n",
        "\n",
        "* Create model using the function `create_model()`\n",
        "* Setup a TensorBoard callback using the previously written function `create_tensorboard_callback()`\n",
        "* Call the `fit()` function on our model with training data, validation data, number of epochs to train for (`NUM_EPOCHS`) and the callbacks that we are going to use.\n",
        "* Return the model"
      ]
    },
    {
      "cell_type": "code",
      "metadata": {
        "id": "0HG1t_m1Wab8"
      },
      "source": [
        "# create function to train the model\n",
        "def train_model():\n",
        "  \"\"\"\n",
        "  Trains a given model and returns the trained version.\n",
        "  \"\"\"\n",
        "  # Create a model using the above func\n",
        "  model = create_model()\n",
        "\n",
        "  # Create new TensorBoard session everytime we train a model\n",
        "  tensorboard = create_tensorboard_callback()\n",
        "\n",
        "  # Fit the model to data using callbacks\n",
        "  model.fit(x=train_data, epochs=NUM_EPOCHS, validation_data=valid_data, validation_freq=1, callbacks=[tensorboard, early_stopping])\n",
        "\n",
        "  # Return the model\n",
        "  return model\n",
        "\n",
        "\n"
      ],
      "execution_count": 37,
      "outputs": []
    },
    {
      "cell_type": "code",
      "metadata": {
        "colab": {
          "base_uri": "https://localhost:8080/"
        },
        "id": "LadFk8B7oYUW",
        "outputId": "19e8cc36-c0fd-4300-caea-58efce1ee30f"
      },
      "source": [
        "# Fit the model to the data\n",
        "model = train_model()"
      ],
      "execution_count": 39,
      "outputs": [
        {
          "output_type": "stream",
          "text": [
            "Building model...\n",
            "Model url :  https://tfhub.dev/google/imagenet/mobilenet_v2_130_224/classification/4\n",
            "Epoch 1/100\n",
            "25/25 [==============================] - 11s 279ms/step - loss: 5.1171 - accuracy: 0.0476 - val_loss: 3.3087 - val_accuracy: 0.3150\n",
            "Epoch 2/100\n",
            "25/25 [==============================] - 5s 206ms/step - loss: 1.8162 - accuracy: 0.6632 - val_loss: 2.0646 - val_accuracy: 0.5400\n",
            "Epoch 3/100\n",
            "25/25 [==============================] - 5s 211ms/step - loss: 0.6259 - accuracy: 0.9241 - val_loss: 1.6148 - val_accuracy: 0.6300\n",
            "Epoch 4/100\n",
            "25/25 [==============================] - 5s 210ms/step - loss: 0.2756 - accuracy: 0.9848 - val_loss: 1.4422 - val_accuracy: 0.6750\n",
            "Epoch 5/100\n",
            "25/25 [==============================] - 5s 210ms/step - loss: 0.1545 - accuracy: 0.9936 - val_loss: 1.3805 - val_accuracy: 0.6800\n",
            "Epoch 6/100\n",
            "25/25 [==============================] - 5s 207ms/step - loss: 0.1022 - accuracy: 1.0000 - val_loss: 1.3325 - val_accuracy: 0.6850\n",
            "Epoch 7/100\n",
            "25/25 [==============================] - 5s 206ms/step - loss: 0.0750 - accuracy: 1.0000 - val_loss: 1.3128 - val_accuracy: 0.6750\n",
            "Epoch 8/100\n",
            "25/25 [==============================] - 5s 203ms/step - loss: 0.0585 - accuracy: 1.0000 - val_loss: 1.2897 - val_accuracy: 0.6850\n",
            "Epoch 9/100\n",
            "25/25 [==============================] - 5s 207ms/step - loss: 0.0480 - accuracy: 1.0000 - val_loss: 1.2757 - val_accuracy: 0.6750\n"
          ],
          "name": "stdout"
        }
      ]
    }
  ]
}